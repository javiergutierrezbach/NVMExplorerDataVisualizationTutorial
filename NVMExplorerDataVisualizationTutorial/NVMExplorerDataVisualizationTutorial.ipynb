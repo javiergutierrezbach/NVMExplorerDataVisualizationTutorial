{
 "cells": [
  {
   "cell_type": "markdown",
   "id": "9d5dec1f",
   "metadata": {},
   "source": [
    "# Welcome to a Sample eNVM Exploration!"
   ]
  },
  {
   "cell_type": "markdown",
   "id": "f1ce1f98",
   "metadata": {},
   "source": [
    "This page will serve as a tutorial for NVMExplorer users to learn what to expect from the output of the framework. It can also serve as a learning tool to guide exploration of example data, as well as adapt this as a resource to make your own explorations with generated data.\n",
    "\n",
    "This exploration uses the python data science library pandas and matplotlib to make different visualizations using example summary csv outputs from NVMExplorer design studies. It also uses jupyter notebook interactive widgets to give the user more flexibility in filtering data and refining their design space exploration.\n",
    "\n",
    "**Please run the cells in order** as some cells depend on helper methods defined earlier."
   ]
  },
  {
   "cell_type": "markdown",
   "id": "0764bcc3",
   "metadata": {},
   "source": [
    "## Loading Your Data"
   ]
  },
  {
   "cell_type": "code",
   "execution_count": 1,
   "id": "d36f7e6c",
   "metadata": {},
   "outputs": [
    {
     "data": {
      "text/plain": [
       "Index(['MemCellType', 'CellArea (F^2)', 'CellAspectRatio', 'AccessType',\n",
       "       'AccessCMOSWidth (F)', 'SRAMCellNMOSWidth (F)', 'SRAMCellPMOSWidth (F)',\n",
       "       'ReadMode', 'ReadVoltage (V)', 'MinSenseVoltage (mV)', 'Stitching',\n",
       "       'MemoryCellInputFile', 'DesignTarget', 'DeviceRoadmap', 'LocalWireType',\n",
       "       'LocalWireRepeaterType', 'LocalWireUseLowSwing', 'GlobalWireType',\n",
       "       'GlobalWireRepeaterType', 'GlobalWireUseLowSwing', 'Routing',\n",
       "       'InternalSensing', 'Temperature (K)', 'BufferDesignOptimization',\n",
       "       'ProcessNode', 'OptimizationTarget', 'WordWidth (bit)', 'Capacity (MB)',\n",
       "       'Benchmark Name', 'Read Accesses', 'Write Accesses',\n",
       "       'Total Dynamic Read Power (mW)', 'Total Dynamic Write Power (mW)',\n",
       "       'Total Power', 'Total Dynamic Read Energy (mJ)',\n",
       "       'Total Dynamic Write Energy (mJ)', 'Total Read Latency (ms)',\n",
       "       'Total Write Latency (ms)', 'Read BW Util', 'Write BW Util',\n",
       "       'Area (mm^2)', 'Area Efficiency (percent)', 'Read Latency (ns)',\n",
       "       'Write Latency (ns)', 'Read Energy (pJ)', 'Write Energy (pJ)',\n",
       "       'Leakage Power (mW)', 'Bits Per Cell', 'ResistanceOn (ohm)',\n",
       "       'ResistanceOff (ohm)', 'ReadPower (uW)', 'ResetMode',\n",
       "       'ResetCurrent (uA)', 'ResetPulse (ns)', 'ResetEnergy (pJ)', 'SetMode',\n",
       "       'SetCurrent (uA)', 'SetPulse (ns)', 'SetEnergy (pJ)',\n",
       "       'ResistanceOnAtSetVoltage (ohm)', 'ResistanceOffAtSetVoltage (ohm)',\n",
       "       'ResistanceOnAtResetVoltage (ohm)', 'ResistanceOffAtResetVoltage (ohm)',\n",
       "       'ResistanceOnAtReadVoltage (ohm)', 'ResistanceOffAtReadVoltage (ohm)',\n",
       "       'ResistanceOnAtHalfResetVoltage (ohm)', 'CapacitanceOn (F)',\n",
       "       'CapacitanceOff (F)', 'ResetVoltage (V)', 'SetVoltage (V)',\n",
       "       'ReadEnergy (pJ)'],\n",
       "      dtype='object')"
      ]
     },
     "execution_count": 1,
     "metadata": {},
     "output_type": "execute_result"
    }
   ],
   "source": [
    "import pandas as pd\n",
    "import matplotlib.pyplot as plt\n",
    "import matplotlib.ticker as mticker\n",
    "import numpy as np\n",
    "from ipywidgets import interact, interactive, fixed, interact_manual, IntRangeSlider\n",
    "import ipywidgets as widgets\n",
    "from math import log10, floor, ceil\n",
    "import re\n",
    "import copy\n",
    "\n",
    "#creates a database from the different data files for the different memory cells\n",
    "\n",
    "SRAMdf = pd.read_csv('SRAM_1BPC-combined.csv')\n",
    "STTdf = pd.read_csv('STT_1BPC-combined.csv')\n",
    "RRAMdf = pd.read_csv('RRAM_1BPC-combined.csv')\n",
    "FeFETdf = pd.read_csv('FeFET_1BPC-combined.csv')\n",
    "PCMdf = pd.read_csv('PCM_1BPC-combined.csv')\n",
    "\n",
    "# if you would like to include endurance data, else ignore.\n",
    "endurancedf = pd.read_csv('2016-2020_EnduranceSummary.csv')\n",
    "\n",
    "#makes a list of all the databases\n",
    "dfs = [SRAMdf, STTdf, RRAMdf, FeFETdf, PCMdf]\n",
    "\n",
    "#makes a large database with all combined data\n",
    "df = pd.concat(dfs)\n",
    "\n",
    "df.columns"
   ]
  },
  {
   "cell_type": "markdown",
   "id": "b4ea2c55",
   "metadata": {},
   "source": [
    "Printed above are all of the columns extracted from NVMExplorer csv outputs, which include all of the configuration parameters and simulated metrics that can be selected, analyzed, filtered, visualized, or used in further post-processing computations.\n",
    "We will explore some of the most important data fields above to answer some questions about the performance of the different memory cells.  In this exploration, we leverage a default cell configuration for each of several NVM cell types and compare array-level and application-level metrics, as described further below."
   ]
  },
  {
   "cell_type": "markdown",
   "id": "eaf86a67",
   "metadata": {},
   "source": [
    "## Graphing the Data\n",
    "\n",
    "The data here also evalutes different traffic patterns for the different types of embedded non-volatile memory. In other words, the performance and power of memory arrays comprised of distinct cell types are simulated under different proportions of reads and writes. The memory technologies being considered in this exploration are MRAM (STT), memristors (RRAM), FeFET, PCRAM (PCM), and, as a reference point for current on-chip memory capabilities, SRAM. All of the arrays in this expreiment have a capacity of 1MB."
   ]
  },
  {
   "cell_type": "markdown",
   "id": "ff9748e0",
   "metadata": {},
   "source": [
    "First off, we will create some methods that will be useful for plotting the graphs and for user interactivity."
   ]
  },
  {
   "cell_type": "code",
   "execution_count": 2,
   "id": "d9aa8360",
   "metadata": {},
   "outputs": [],
   "source": [
    "\n",
    "# Makes a list of the cells that are in the data.\n",
    "paths = list()\n",
    "cells = list()\n",
    "\n",
    "# this is the dict of CURRENT frames that the plots loop over to read data\n",
    "labels = list()\n",
    "frames = list()\n",
    "\n",
    "#this method gets all the cel config paths and adds them to a paths list, it also gets a substring of the cell\n",
    "#and makes another string.\n",
    "def getCells():\n",
    "    for path in df['MemoryCellInputFile'].unique():\n",
    "        if isinstance(path, str):\n",
    "            match = re.search(' data/cell_cfgs/(.*)\\.cell$', path)\n",
    "            if match:\n",
    "                paths.append(match.group())\n",
    "                cells.append(match.group(1))\n",
    "getCells()\n",
    "\n",
    "#makes the widgets for each cell configuration in the file and the dictionary with ALL of the cell configurations\n",
    "cell_frames = {}\n",
    "widget_dict = {}\n",
    "dfs.clear()\n",
    "\n",
    "i = 0\n",
    "\n",
    "#this loop feeds a dictionary with the different frames based on the cell config paths given by the data\n",
    "#it also makes the necessary widgets based on this data\n",
    "for path in paths:\n",
    "    myFrame = pd.DataFrame(columns=df.columns)\n",
    "    myFrame = pd.concat([myFrame, df[(df['MemoryCellInputFile'] == path)]])\n",
    "    cell_frames[path] = myFrame\n",
    "    dfs.append(myFrame)\n",
    "    \n",
    "    widget_dict[path] = widgets.Checkbox(value=True, description=cells[i])\n",
    "    i += 1\n",
    "\n",
    "#this function looks at the memories the user toggles on and decides which will be in the list that plt will loop over\n",
    "def frameList(**kwargs):\n",
    "    \n",
    "    labels.clear()\n",
    "    frames.clear()\n",
    "\n",
    "    i = 0\n",
    "    for key, value in kwargs.items():\n",
    "        if value:\n",
    "            frames.append(key)\n",
    "            labels.append(cells[i])\n",
    "        i += 1\n",
    "    \n",
    "        \n",
    "    return frames\n",
    "\n",
    "# this method gets a number and then outputs the exponent if it were written in scientific method\n",
    "def find_exp(number) -> float:\n",
    "    \n",
    "    base10 = log10(abs(number))\n",
    "  \n",
    "    return base10\n",
    "\n",
    "# these methods find the minimum and maximum of all the rows in a certain column\n",
    "def min_(column_name) -> int:\n",
    "    \n",
    "    # it makes a copy of the full dataframe with indexes and data\n",
    "    df1 = df.copy(deep=True)\n",
    "    \n",
    "    # drops the rows where the value is 0 from the new df so it is not included in the minimum function\n",
    "    # this is because we use the log10 function so that we get a power of ten with miniscule numbers\n",
    "    # so we want to get -5 for 0.00001 and not 0.\n",
    "    df1.drop(df1[(df1[column_name] == 0)].index, inplace=True)\n",
    "    \n",
    "    # finds the exponent if it were in scientific notation, ignores non numeric values\n",
    "    exp = find_exp(df1[column_name].min(numeric_only=True))\n",
    "    \n",
    "    #takes the floor to give you some space between the border of the graph and the minimum data point.\n",
    "    _min = floor(exp)\n",
    "    \n",
    "    # similarily, if the original number is too close to the floored value, we make the range one lower.\n",
    "    if exp - _min < 0.3:\n",
    "        _min -= 1\n",
    "    return _min\n",
    "\n",
    "def max_(column_name) -> int:\n",
    "    exp = find_exp(df[column_name].max())\n",
    "    _max = ceil(exp)\n",
    "    if _max - exp < 0.3:\n",
    "        _max +=1\n",
    "    return _max\n",
    "\n",
    "# turns the linear scale of the user input into a logarithmic scale by using the input as a power of ten\n",
    "def findRange(_min, _max):\n",
    "    _range = (10 ** _min, 10 ** _max)\n",
    "    return _range\n",
    "\n",
    "colors = ['cornflowerblue', 'firebrick', 'gold', 'forestgreen', 'mediumpurple']\n",
    "    "
   ]
  },
  {
   "cell_type": "markdown",
   "id": "81e682fa",
   "metadata": {},
   "source": [
    "# ============================================================\n",
    "### Chapter 1: Per-Technology Array Characteristics for a Single Access"
   ]
  },
  {
   "cell_type": "markdown",
   "id": "272d5f94",
   "metadata": {},
   "source": [
    "To begin, we will start looking at the array characteristics of each type of cell compared to each other, and the statistics regarding a single read or write access at a time."
   ]
  },
  {
   "cell_type": "markdown",
   "id": "33f7ba69",
   "metadata": {},
   "source": [
    "Evidently, a good memory technology is only useful if we can fit it in our computers, so knowing their areas is pretty useful..."
   ]
  },
  {
   "cell_type": "code",
   "execution_count": 3,
   "id": "4bad27b9",
   "metadata": {
    "scrolled": false
   },
   "outputs": [
    {
     "data": {
      "application/vnd.jupyter.widget-view+json": {
       "model_id": "53cd72048a70491cac69f022c5988d28",
       "version_major": 2,
       "version_minor": 0
      },
      "text/plain": [
       "interactive(children=(Checkbox(value=True, description='TURN_ON'), Checkbox(value=True, description='SRAM_defa…"
      ]
     },
     "metadata": {},
     "output_type": "display_data"
    },
    {
     "data": {
      "text/plain": [
       "<function __main__.graph(TURN_ON, **kwargs)>"
      ]
     },
     "execution_count": 3,
     "metadata": {},
     "output_type": "execute_result"
    }
   ],
   "source": [
    "\n",
    "def graph(TURN_ON, **kwargs):\n",
    " \n",
    "    # these turning on buttons appear in every graph, make sure to turn each graph off when you stop using it \n",
    "    # or turn them on only when using them as, especially for the bar charts, having them on affects the latency\n",
    "    # of all the toggles\n",
    "    if TURN_ON:\n",
    "        # updates the frames list so to include only the technologies we want to show\n",
    "        myFrames = frameList(**kwargs)\n",
    "    \n",
    "        # specifies titles, labels and scales\n",
    "        plt.title(\"Area (mm^2) of each Memory Cell\")\n",
    "        plt.xlabel(\"Memory Cell Type\")\n",
    "        plt.ylabel(\"Area (mm^2)\")\n",
    "    \n",
    "        # defines the maximum range of the y axis\n",
    "        plt.ylim(0, 1)\n",
    "    \n",
    "        # makes a bar chart of the memory cell type and our its area\n",
    "        i = 0\n",
    "        for frame in myFrames:\n",
    "            plt.bar(cell_frames[frame]['MemoryCellInputFile'], cell_frames[frame]['Area (mm^2)'], color = colors[i])\n",
    "            i += 1\n",
    "        \n",
    "        currxticks, currxlabels = plt.xticks()\n",
    "        plt.xticks(currxticks,labels,rotation=45)\n",
    "        plt.show()\n",
    "    \n",
    "    return \n",
    "\n",
    "\n",
    "# the interact function defines the buttons that the user will be able to toggle basee on the customized dict made earlier.\n",
    "#It also signals that these toggles go as inputs to the function graph\n",
    "interact(graph, TURN_ON=True, **widget_dict)\n"
   ]
  },
  {
   "cell_type": "markdown",
   "id": "4122eafc",
   "metadata": {},
   "source": [
    "The chart above shows us how all of the eNVM technologies achieve smaller area than the commonly used SRAM by almost a factor of 3. \n",
    "The area of the FeFET array is also significantly smaller than the other technologies.\n",
    "As all of the cells considered have a capacity of 1MB, this comparison reflects the potential for increased storage density across eNVM technologies."
   ]
  },
  {
   "cell_type": "code",
   "execution_count": 4,
   "id": "2c3886db",
   "metadata": {
    "scrolled": false
   },
   "outputs": [
    {
     "data": {
      "application/vnd.jupyter.widget-view+json": {
       "model_id": "4fae3764935f4006a1f67abcef0b2f0d",
       "version_major": 2,
       "version_minor": 0
      },
      "text/plain": [
       "interactive(children=(Checkbox(value=True, description='TURN_ON'), Checkbox(value=True, description='SRAM_defa…"
      ]
     },
     "metadata": {},
     "output_type": "display_data"
    },
    {
     "data": {
      "text/plain": [
       "<function __main__.graph(TURN_ON, **kwargs)>"
      ]
     },
     "execution_count": 4,
     "metadata": {},
     "output_type": "execute_result"
    }
   ],
   "source": [
    "# makes a new column in the dataframe for the density by doing operations on two already existing columns\n",
    "for frame in cell_frames.values():\n",
    "    frame['Density(MB/mm^2)'] = frame['Capacity (MB)'] / frame['Area (mm^2)']\n",
    "\n",
    "\n",
    "def graph(TURN_ON, **kwargs):\n",
    "    \n",
    "    if TURN_ON:\n",
    "        myFrames = frameList(**kwargs)\n",
    "\n",
    "        plt.title(\"The Density of each Memory Cell\")\n",
    "        plt.xlabel(\"Memory Cell Type\")\n",
    "        plt.ylabel(\"Density of Memory Cell (MB/mm^2)\")\n",
    "        \n",
    "        i = 0\n",
    "        for frame in myFrames:\n",
    "            plt.bar(cell_frames[frame]['MemoryCellInputFile'], cell_frames[frame]['Density(MB/mm^2)'], color = colors[i])\n",
    "            i += 1\n",
    "\n",
    "        currxticks, currxlabels = plt.xticks()\n",
    "        plt.xticks(currxticks,labels,rotation=45)\n",
    "        plt.show()\n",
    "    \n",
    "    return \n",
    "\n",
    "interact(graph, TURN_ON=True, **widget_dict)\n"
   ]
  },
  {
   "cell_type": "markdown",
   "id": "afbb9efa",
   "metadata": {},
   "source": [
    "Evidently, FeFET achieves highest density among these solutions."
   ]
  },
  {
   "cell_type": "markdown",
   "id": "58772053",
   "metadata": {},
   "source": [
    "A related metric that we may examine is the area efficiency of each memory array:"
   ]
  },
  {
   "cell_type": "code",
   "execution_count": 5,
   "id": "4946636b",
   "metadata": {
    "scrolled": false
   },
   "outputs": [
    {
     "data": {
      "application/vnd.jupyter.widget-view+json": {
       "model_id": "eeaeb692ef9743f5a8e7e1f6e911935c",
       "version_major": 2,
       "version_minor": 0
      },
      "text/plain": [
       "interactive(children=(Checkbox(value=True, description='TURN_ON'), Checkbox(value=True, description='SRAM_defa…"
      ]
     },
     "metadata": {},
     "output_type": "display_data"
    },
    {
     "data": {
      "text/plain": [
       "<function __main__.graph(TURN_ON, **kwargs)>"
      ]
     },
     "execution_count": 5,
     "metadata": {},
     "output_type": "execute_result"
    }
   ],
   "source": [
    "\n",
    "\n",
    "def graph(TURN_ON, **kwargs):\n",
    "    \n",
    "    if TURN_ON:\n",
    "        myFrames = frameList(**kwargs)\n",
    "\n",
    "        plt.title(\"Storage Density\")\n",
    "        plt.xlabel(\"Memory Cell Type\")\n",
    "        plt.ylabel(\"Area Efficiency (%)\")\n",
    "\n",
    "        i = 0\n",
    "        for frame in myFrames:\n",
    "            plt.bar(cell_frames[frame]['MemoryCellInputFile'], cell_frames[frame]['Area Efficiency (percent)'], color = colors[i])\n",
    "            i += 1\n",
    "        \n",
    "        currxticks, currxlabels = plt.xticks()\n",
    "        plt.xticks(currxticks,labels,rotation=45)\n",
    "        plt.show()\n",
    "\n",
    "    return \n",
    "\n",
    "interact(graph,TURN_ON=True, **widget_dict)\n"
   ]
  },
  {
   "cell_type": "markdown",
   "id": "86c6070c",
   "metadata": {},
   "source": [
    "Here, area efficiency refers to what proportion of a memory array is actually comprised of memory cells. The rest of it is comprised of peripheral circuitry.\n",
    "\n",
    "Once again, FeFET has the highest area efficiency, but this time SRAM, MRAM and the memristor are only slightly below it. However, PCRAM exhibits an area efficiency of just over 40%.  This relationship will change significantly according to our array optimization target and array capacity."
   ]
  },
  {
   "cell_type": "markdown",
   "id": "3a3ed1f7",
   "metadata": {},
   "source": [
    "Below is the energy required to read a single bit from each type of memory cell.\n",
    "The WordWidth refers to the amount of bits that are passed in and out of the array per each access, so this metric is the result of dividing the total read energy per access by the word width."
   ]
  },
  {
   "cell_type": "code",
   "execution_count": 6,
   "id": "252b8f25",
   "metadata": {
    "scrolled": false
   },
   "outputs": [
    {
     "data": {
      "application/vnd.jupyter.widget-view+json": {
       "model_id": "86a3d02510a5491395082adb49854a09",
       "version_major": 2,
       "version_minor": 0
      },
      "text/plain": [
       "interactive(children=(Checkbox(value=True, description='TURN_ON'), Checkbox(value=True, description='SRAM_defa…"
      ]
     },
     "metadata": {},
     "output_type": "display_data"
    },
    {
     "data": {
      "text/plain": [
       "<function __main__.graph(TURN_ON, **kwargs)>"
      ]
     },
     "execution_count": 6,
     "metadata": {},
     "output_type": "execute_result"
    }
   ],
   "source": [
    "for dataFrame in cell_frames.values():\n",
    "    dataFrame['Read Energy / bit (pJ)'] = dataFrame['Read Energy (pJ)'] / dataFrame['WordWidth (bit)']\n",
    "\n",
    "def graph(TURN_ON, **kwargs):\n",
    "    \n",
    "    if TURN_ON:\n",
    "        \n",
    "        myFrames = frameList(**kwargs)\n",
    "\n",
    "        plt.title(\"The Read Energy per Bit for each Cell Type\")\n",
    "        plt.xlabel(\"Memory Cell Type\")\n",
    "        plt.ylabel(\"Read Energy / bit (pJ)\")\n",
    "        plt.ylim(0, 0.1)\n",
    "\n",
    "        i = 0\n",
    "        for frame in myFrames:\n",
    "            plt.bar(cell_frames[frame]['MemoryCellInputFile'], cell_frames[frame]['Read Energy / bit (pJ)'], color = colors[i])\n",
    "            i += 1\n",
    "        \n",
    "        currxticks, currxlabels = plt.xticks()\n",
    "        plt.xticks(currxticks,labels,rotation=45)\n",
    "        plt.show()\n",
    "    \n",
    "    return \n",
    "\n",
    "interact(graph, TURN_ON=True, **widget_dict)\n"
   ]
  },
  {
   "cell_type": "markdown",
   "id": "de6e8b3a",
   "metadata": {},
   "source": [
    "As we can see, FeFET is the most efficient eNVM of these configurations in terms of energy required to read a single bit (below 0.02pJ). SRAM is also not very costly, and then most other technologies require more than triple the energy then FeFET does, at roughly 0.06pJ.  For eNVM technlogies, we expect an advantage with respect to leakage power over volatile technologies, even when dynamic energy per access is comparable or worse than SRAM."
   ]
  },
  {
   "cell_type": "markdown",
   "id": "447e7843",
   "metadata": {},
   "source": [
    "Answering the same question for write energy per bit:"
   ]
  },
  {
   "cell_type": "code",
   "execution_count": 7,
   "id": "9a693b82",
   "metadata": {
    "scrolled": false
   },
   "outputs": [
    {
     "data": {
      "application/vnd.jupyter.widget-view+json": {
       "model_id": "2cd0640c4c5a45c486f9058779edd28c",
       "version_major": 2,
       "version_minor": 0
      },
      "text/plain": [
       "interactive(children=(Checkbox(value=True, description='TURN_ON'), Checkbox(value=True, description='SRAM_defa…"
      ]
     },
     "metadata": {},
     "output_type": "display_data"
    },
    {
     "data": {
      "text/plain": [
       "<function __main__.graph(TURN_ON, **kwargs)>"
      ]
     },
     "execution_count": 7,
     "metadata": {},
     "output_type": "execute_result"
    }
   ],
   "source": [
    "for dataFrame in cell_frames.values():\n",
    "    dataFrame['Write Energy / bit (pJ)'] = dataFrame['Write Energy (pJ)'] / dataFrame['WordWidth (bit)']\n",
    "\n",
    "def graph(TURN_ON, **kwargs):\n",
    "  \n",
    "    if TURN_ON:\n",
    "    \n",
    "        myFrames = frameList(**kwargs)\n",
    "\n",
    "        plt.title(\"The Write Energy per Bit for each Cell Type\")\n",
    "        plt.xlabel(\"Memory Cell Type\")\n",
    "        plt.ylabel(\"Write Energy / bit (pJ)\")\n",
    "        plt.ylim(0, 1.5)\n",
    "\n",
    "        i = 0\n",
    "        for frame in myFrames:\n",
    "            plt.bar(cell_frames[frame]['MemoryCellInputFile'], cell_frames[frame]['Write Energy / bit (pJ)'], color = colors[i])\n",
    "            i += 1\n",
    "        \n",
    "        currxticks, currxlabels = plt.xticks()\n",
    "        plt.xticks(currxticks,labels,rotation=45)\n",
    "        plt.show()\n",
    "\n",
    "    return \n",
    "\n",
    "interact(graph, TURN_ON=True, **widget_dict)\n"
   ]
  },
  {
   "cell_type": "markdown",
   "id": "888d8aef",
   "metadata": {},
   "source": [
    "Again, only one eNVM seems to need less energy than the usual SRAM, being PCRAM just below 0.25pJ. FeFET is a close second, although it already seems slightly more costly than SRAM, and the other technologies are way more costly, MRAM being the worse with over 1pJ per bit written.\n"
   ]
  },
  {
   "cell_type": "markdown",
   "id": "eaa8a199",
   "metadata": {},
   "source": [
    "Another statistic that we are going to look at to understand the differrent cell technologies is their leakage power. This refers to the energy that maintains the array or is 'leaked' per second while the array is powered. \n",
    "\n",
    "For some of these graphs, you will see that you have the option to show the y-axis both with a log and a linear scale based on the toggle buttons for improved clarity.\n",
    "\n",
    "The graph is below:"
   ]
  },
  {
   "cell_type": "code",
   "execution_count": 8,
   "id": "c036ec5e",
   "metadata": {
    "scrolled": false
   },
   "outputs": [
    {
     "data": {
      "application/vnd.jupyter.widget-view+json": {
       "model_id": "01792cf1f50342688e3e9805ea09da74",
       "version_major": 2,
       "version_minor": 0
      },
      "text/plain": [
       "interactive(children=(Checkbox(value=True, description='TURN_ON'), Checkbox(value=False, description='Y_Log_Sc…"
      ]
     },
     "metadata": {},
     "output_type": "display_data"
    },
    {
     "data": {
      "text/plain": [
       "<function __main__.graph(TURN_ON, Y_Log_Scale, **kwargs)>"
      ]
     },
     "execution_count": 8,
     "metadata": {},
     "output_type": "execute_result"
    }
   ],
   "source": [
    "\n",
    "def graph(TURN_ON, Y_Log_Scale, **kwargs):\n",
    "    \n",
    "    if TURN_ON:\n",
    "        myFrames = frameList(**kwargs)\n",
    "\n",
    "        plt.title(\"The Leakage Power of a Memory Cell against their Write Accesses\")\n",
    "        plt.xlabel(\"Write Accesses / s\")\n",
    "        plt.ylabel(\"Leakage Power (mW)\")\n",
    "\n",
    "        if Y_Log_Scale:\n",
    "            plt.yscale(\"log\", base=2)\n",
    "\n",
    "            # these few statements make it so that the y axis shows in normal format rather than scientific notation\n",
    "            ax = plt.gca()\n",
    "            ax.yaxis.set_major_formatter(mticker.ScalarFormatter())\n",
    "            ax.yaxis.get_major_formatter().set_scientific(False)\n",
    "            ax.yaxis.get_major_formatter().set_useOffset(False)\n",
    "            \n",
    "        i = 0\n",
    "        for frame in myFrames:\n",
    "            plt.bar(cell_frames[frame]['MemoryCellInputFile'], cell_frames[frame]['Leakage Power (mW)'], color = colors[i])\n",
    "            i += 1\n",
    "        \n",
    "        currxticks, currxlabels = plt.xticks()\n",
    "        plt.xticks(currxticks,labels,rotation=45)\n",
    "        plt.show()\n",
    "\n",
    "    return \n",
    "\n",
    "# now includes another toggle so that you can determine whether you want the y scale to be linear or logarithmic\n",
    "interact(graph, TURN_ON=True, Y_Log_Scale = False, **widget_dict)\n"
   ]
  },
  {
   "cell_type": "markdown",
   "id": "981bb21b",
   "metadata": {},
   "source": [
    "This graphic illustrates that most eNVM technologies exhibit significantly lower leakage power than SRAM. An exception for these particularly configurations is PCRAM, which although it is still below SRAM by a couple mW, it requires more than 20mW while its counterparts are well below 5mW."
   ]
  },
  {
   "cell_type": "markdown",
   "id": "70b8a589",
   "metadata": {},
   "source": [
    "Lastly, another relevant aspect about each cell is its endurance, or life expetancy. This refers to how many cycles can a cell perform until it begins to possibly fail or give issues. Different cell designs and operating conditions incur a range of previously published endurance values per technology, so our data contains maximum and minimum values derived from previous publications, as documented in the NVMExplorer paper (HPCA '22). The following chart shows this range:"
   ]
  },
  {
   "cell_type": "code",
   "execution_count": 9,
   "id": "505543c9",
   "metadata": {
    "scrolled": false
   },
   "outputs": [
    {
     "data": {
      "image/png": "[encoded data removed]",
      "text/plain": [
       "<Figure size 640x480 with 1 Axes>"
      ]
     },
     "metadata": {},
     "output_type": "display_data"
    }
   ],
   "source": [
    "# Do not run this chunk if you do not have a specific endurance data set.\n",
    "\n",
    "endurancedf.drop(endurancedf[(endurancedf['Memory Cell'] == 'SOT') | (endurancedf['Memory Cell'] == 'CTT') | (endurancedf['Memory Cell'] == 'eFlash')].index, inplace = True)\n",
    "\n",
    "def graph():\n",
    "    \n",
    "    plt.title(\"The Endurance of eNVMs\")\n",
    "    plt.xlabel(\"Memory Cell Type\")\n",
    "    plt.ylabel(\"Cycles\")\n",
    "    plt.yscale(\"log\")\n",
    "    plt.ylim(1, 1e16)\n",
    "    plt.bar(endurancedf['Memory Cell'], endurancedf['max'], color=colors, bottom = endurancedf['min'])\n",
    "    plt.show()\n",
    "    \n",
    "    return \n",
    "\n",
    "graph()"
   ]
  },
  {
   "cell_type": "markdown",
   "id": "36a8097a",
   "metadata": {},
   "source": [
    "As we can see, the range in these values is large, especially for MRAM. However, one conclusion we can make is that MRAM is the most reliable as it will start failing after more cycles than the other technologies, and that you are probably worse off with the memristor or a FeFET unless your system setting is solely read-intensive."
   ]
  },
  {
   "cell_type": "markdown",
   "id": "252300f1",
   "metadata": {},
   "source": [
    "# ============================================================\n",
    "### Chapter 2: Analyzing Array Performance under Realistic Memory Traffic Patterns"
   ]
  },
  {
   "cell_type": "markdown",
   "id": "6cbe4b00",
   "metadata": {},
   "source": [
    "Now that we have a rough understanding of the properties of each array in isolation, we can move on to analyze how the arrays behave when a bunch of read and write accesses are made with different types of traffic patterns."
   ]
  },
  {
   "cell_type": "markdown",
   "id": "5558319d",
   "metadata": {},
   "source": [
    "This first graph below displays the total memory power in mW against the amount of read accesses per second of work."
   ]
  },
  {
   "cell_type": "code",
   "execution_count": 10,
   "id": "c851cb3b",
   "metadata": {
    "scrolled": false
   },
   "outputs": [
    {
     "data": {
      "application/vnd.jupyter.widget-view+json": {
       "model_id": "57c81e13152146bf98d01ebf735b0106",
       "version_major": 2,
       "version_minor": 0
      },
      "text/plain": [
       "interactive(children=(Checkbox(value=True, description='TURN_ON'), Checkbox(value=False, description='Y_Log_Sc…"
      ]
     },
     "metadata": {},
     "output_type": "display_data"
    },
    {
     "data": {
      "text/plain": [
       "<function __main__.graph(TURN_ON, Y_Log_Scale, x_Range, y_Range, y_Range_log, **kwargs)>"
      ]
     },
     "execution_count": 10,
     "metadata": {},
     "output_type": "execute_result"
    }
   ],
   "source": [
    "for dfr in dfs:\n",
    "    # creates a new column in the current dataframe, by adding the Total Dynamic Read Power, the Total Dynamic\n",
    "    # Write Power and the Leakage Power of each cell\n",
    "    \n",
    "    # now we create the new column before anything runs because the interact function needs it to evaluate the \n",
    "    # ranges of the sliders\n",
    "    dfr['Total Mem Power'] = dfr['Total Dynamic Read Power (mW)'] + dfr['Total Dynamic Write Power (mW)'] + dfr['Leakage Power (mW)']\n",
    "\n",
    "    \n",
    "# have to update the big dataframe so that the min and max functions work\n",
    "df = pd.concat(dfs)\n",
    "\n",
    "def graph(TURN_ON, Y_Log_Scale, x_Range, y_Range, y_Range_log, **kwargs):\n",
    "    \n",
    "    if TURN_ON:\n",
    "    \n",
    "        # the find range method returns a tuple, so the first index contains the min and the second one contains the max\n",
    "        xRange = findRange(x_Range[0], x_Range[1])\n",
    "\n",
    "        myFrames = frameList(**kwargs)\n",
    "\n",
    "        plt.title(\"The Total Power of a Memory Cell against their Read Accesses\")\n",
    "        plt.xlabel(\"Read Accesses / s\")\n",
    "        plt.ylabel(\"Total Memory Power (mW)\")\n",
    "        plt.xscale(\"log\")\n",
    "\n",
    "        if Y_Log_Scale:\n",
    "            plt.yscale(\"log\")\n",
    "            yRange = findRange(y_Range_log[0], y_Range_log[1])\n",
    "        else:\n",
    "            plt.yscale(\"linear\")\n",
    "            yRange = (y_Range[0], y_Range[1])\n",
    "\n",
    "        #sets the newly determined ranges as the ranges of the axes in the graph\n",
    "        plt.xlim(xRange)\n",
    "        plt.ylim(yRange)\n",
    "\n",
    "        i = 0\n",
    "        for frame in myFrames:\n",
    "            # we use similar regular expression parsing here to obtain the labels\n",
    "            match = re.search(' data/cell_cfgs/(.*)\\.cell$', cell_frames[frame]['MemoryCellInputFile'].iloc[0])\n",
    "            myLabel = match.group(1)\n",
    "            \n",
    "            # makes a scatter plot of the total read accesses and our new statistic\n",
    "            # sets the label for the legend to be the object in the first column and 0th row which is the name of the memory cell\n",
    "            plt.scatter(cell_frames[frame]['Read Accesses'], cell_frames[frame]['Total Mem Power'], label = myLabel, color=colors[i])\n",
    "            plt.legend()\n",
    "            i += 1\n",
    "        plt.show()\n",
    "\n",
    "    return \n",
    "\n",
    "# now includes the sliders for the x and y ranges. Its mins and maxs are evaluated with a function, the step size and default values are also defined.\n",
    "interact(graph, TURN_ON = True, Y_Log_Scale = False, x_Range=IntRangeSlider(min= min_('Read Accesses'),max=max_('Read Accesses'), step=1, value=[-1, 11]), y_Range=IntRangeSlider(min = -1000,max = 45000,step=1000, value=[-1000,12000]), y_Range_log=IntRangeSlider(min = min_('Total Mem Power'),max =max_('Total Mem Power'),step=1, value=[1,5]), **widget_dict)\n",
    "\n"
   ]
  },
  {
   "cell_type": "markdown",
   "id": "06004d35",
   "metadata": {},
   "source": [
    "The total memory power comprises the energy that it takes to make a certain number of reads and writes per second added to the leakage power."
   ]
  },
  {
   "cell_type": "markdown",
   "id": "ff718a57",
   "metadata": {},
   "source": [
    "By default, only SRAM power values are shown, but go ahead and compare it with the eNVM solutions. To further filter or examine specific regions of the traffic space more closely, you can toggle the log scale and adjust the axis range.\n",
    "\n",
    "First, you might compare SRAM with PCRAM; PCRAM usually requires slightly less power regardless of the traffic pattern, except with extremum amounts of reads where dynamic energy becomes dominant.\n",
    "\n",
    "To see a greater difference, compare any of these with MRAM. Notice how depending on traffic patterns, the amount of power required is consistently dominated by dynamic energy. \n",
    "\n",
    "Finally, compare with FeFET. Among these configurations, FeFET requires the least amount of power when dealing with fewer accesses. Even for patterns where it needs the most energy, its very slightly above SRAM, so this technology seems the best in terms of power.\n"
   ]
  },
  {
   "cell_type": "markdown",
   "id": "df3701dd",
   "metadata": {},
   "source": [
    "To get a complete view, here is the same comparison but with write accesses instead:"
   ]
  },
  {
   "cell_type": "code",
   "execution_count": 11,
   "id": "14defaa5",
   "metadata": {
    "scrolled": false
   },
   "outputs": [
    {
     "data": {
      "application/vnd.jupyter.widget-view+json": {
       "model_id": "f42cbeb04ed040fc8603fa3b2f43d6e9",
       "version_major": 2,
       "version_minor": 0
      },
      "text/plain": [
       "interactive(children=(Checkbox(value=True, description='TURN_ON'), Checkbox(value=False, description='Y_Log_Sc…"
      ]
     },
     "metadata": {},
     "output_type": "display_data"
    },
    {
     "data": {
      "text/plain": [
       "<function __main__.graph(TURN_ON, Y_Log_Scale, x_Range, y_Range, y_Range_log, **kwargs)>"
      ]
     },
     "execution_count": 11,
     "metadata": {},
     "output_type": "execute_result"
    }
   ],
   "source": [
    "\n",
    "def graph(TURN_ON, Y_Log_Scale, x_Range, y_Range, y_Range_log, **kwargs):\n",
    "    \n",
    "    if TURN_ON:\n",
    "\n",
    "        xRange = findRange(x_Range[0], x_Range[1])\n",
    "\n",
    "        myFrames = frameList(**kwargs)\n",
    "\n",
    "        plt.title(\"The Total Power of a Memory Cell against their Write Accesses\")\n",
    "        plt.xlabel(\"Write Accesses / s\")\n",
    "        plt.ylabel(\"Total Memory Power (mW)\")\n",
    "        plt.xscale(\"log\")\n",
    "\n",
    "        if Y_Log_Scale:\n",
    "            plt.yscale(\"log\")\n",
    "            yRange = findRange(y_Range_log[0], y_Range_log[1])\n",
    "        else:\n",
    "            plt.yscale(\"linear\")\n",
    "            yRange = (y_Range[0], y_Range[1])\n",
    "\n",
    "        plt.xlim(xRange)\n",
    "        plt.ylim(yRange)\n",
    "\n",
    "        i = 0\n",
    "        for frame in myFrames:\n",
    "            match = re.search(' data/cell_cfgs/(.*)\\.cell$', cell_frames[frame]['MemoryCellInputFile'].iloc[0])\n",
    "            myLabel = match.group(1)\n",
    "\n",
    "            plt.scatter(cell_frames[frame]['Write Accesses'], cell_frames[frame]['Total Mem Power'], label = myLabel, color=colors[i])\n",
    "            plt.legend()\n",
    "            i += 1\n",
    "        plt.show()\n",
    "\n",
    "    return \n",
    "\n",
    "interact(graph, TURN_ON = True, Y_Log_Scale = False, x_Range=IntRangeSlider(min= min_('Write Accesses'),max=max_('Write Accesses'), step=1, value=[-1, 9]), y_Range=IntRangeSlider(min = -1000,max = 45000,step=1000, value=[-1000,12000]), y_Range_log=IntRangeSlider(min = min_('Total Mem Power'),max =max_('Total Mem Power'),step=1, value=[1,5]), **widget_dict)\n",
    "\n"
   ]
  },
  {
   "cell_type": "markdown",
   "id": "2bd4ecae",
   "metadata": {},
   "source": [
    "The vertical distribution at a fixed number of writes correspond to simulations that performs varying number of reads interleaved with a fixed number of writes."
   ]
  },
  {
   "cell_type": "markdown",
   "id": "f1070e0c",
   "metadata": {},
   "source": [
    "Explore and compare the cell technologies in the same order as the read accesses graph. We see similar trends, and the FeFET configuration requires the least power on average, specially under low amounts of both reads and writes."
   ]
  },
  {
   "cell_type": "markdown",
   "id": "f6547a24",
   "metadata": {},
   "source": [
    "Up next, we examine the total memory latency against the write accesses of the memory array.\n"
   ]
  },
  {
   "cell_type": "code",
   "execution_count": 12,
   "id": "a9a72846",
   "metadata": {
    "scrolled": false
   },
   "outputs": [
    {
     "data": {
      "application/vnd.jupyter.widget-view+json": {
       "model_id": "f106402354a8446eb85edb0d50ff24af",
       "version_major": 2,
       "version_minor": 0
      },
      "text/plain": [
       "interactive(children=(Checkbox(value=True, description='TURN_ON'), IntRangeSlider(value=(-1, 9), description='…"
      ]
     },
     "metadata": {},
     "output_type": "display_data"
    },
    {
     "data": {
      "text/plain": [
       "<function __main__.graph(TURN_ON, x_Range, y_Range, **kwargs)>"
      ]
     },
     "execution_count": 12,
     "metadata": {},
     "output_type": "execute_result"
    }
   ],
   "source": [
    "# It is divided by 1000 to turn the ms into seconds\n",
    "for dfr in dfs:\n",
    "    dfr['Total Memory Latency (s)'] = (dfr['Total Write Latency (ms)'] + dfr['Total Read Latency (ms)']) / 1000.0\n",
    "\n",
    "df = pd.concat(dfs)\n",
    "\n",
    "def graph(TURN_ON, x_Range, y_Range, **kwargs):\n",
    "    \n",
    "    if TURN_ON:\n",
    "    \n",
    "        xRange = findRange(x_Range[0], x_Range[1])\n",
    "        yRange = findRange(y_Range[0], y_Range[1])\n",
    "\n",
    "        myFrames = frameList(**kwargs)\n",
    "\n",
    "        plt.title(\"The Total Latency of a Memory Cell against their Write Accesses\")\n",
    "        plt.xlabel(\"Write Accesses / s\")\n",
    "        plt.ylabel(\"Total Memory Latency (s)\")\n",
    "        plt.xscale(\"log\")\n",
    "        plt.yscale(\"log\")\n",
    "\n",
    "        plt.xlim(xRange)\n",
    "        plt.ylim(yRange)\n",
    "\n",
    "        i = 0\n",
    "        for frame in myFrames:\n",
    "            match = re.search(' data/cell_cfgs/(.*)\\.cell$', cell_frames[frame]['MemoryCellInputFile'].iloc[0])\n",
    "            myLabel = match.group(1)\n",
    "\n",
    "            plt.scatter(cell_frames[frame]['Write Accesses'], cell_frames[frame]['Total Memory Latency (s)'], label = myLabel, color=colors[i])\n",
    "            plt.legend()\n",
    "            i += 1\n",
    "        plt.show()\n",
    "    \n",
    "    return \n",
    "\n",
    "interact(graph, TURN_ON = True, x_Range=IntRangeSlider(min= min_('Write Accesses'),max=max_('Write Accesses'), step=1, value=[-1,9]), y_Range=IntRangeSlider(min = min_('Total Memory Latency (s)'),max =max_('Total Memory Latency (s)'),step=1, value=[-10,2]), **widget_dict)\n",
    "\n"
   ]
  },
  {
   "cell_type": "markdown",
   "id": "a7460985",
   "metadata": {},
   "source": [
    "Again, the patterns are similar across technologies. As we do more write accesses per second, the total memory latency increases significantly.\n",
    "If we would only like to consider those configurations that cause no performance degradation, we would discard all configurations where the total memory latency is over a second, as per second of work we do, we will have to spend more than a second waiting on memory access, slowing down the software."
   ]
  },
  {
   "cell_type": "markdown",
   "id": "70e609fb",
   "metadata": {},
   "source": [
    "If you toggle the different technologies in descending order, you may see that their least possible amount of latency at any write access actually increases per technology. SRAM maintains a performance advantage with lowest latency under low traffic patterns."
   ]
  },
  {
   "cell_type": "markdown",
   "id": "101844dc",
   "metadata": {},
   "source": [
    "To continue the investigation, we can study the performance implications against read traffic instead."
   ]
  },
  {
   "cell_type": "code",
   "execution_count": 13,
   "id": "267fbc16",
   "metadata": {
    "scrolled": false
   },
   "outputs": [
    {
     "data": {
      "application/vnd.jupyter.widget-view+json": {
       "model_id": "efa0e027f2cd4a089a38058feeca7a83",
       "version_major": 2,
       "version_minor": 0
      },
      "text/plain": [
       "interactive(children=(Checkbox(value=True, description='TURN_ON'), IntRangeSlider(value=(-1, 8), description='…"
      ]
     },
     "metadata": {},
     "output_type": "display_data"
    },
    {
     "data": {
      "text/plain": [
       "<function __main__.graph(TURN_ON, x_Range, y_Range, **kwargs)>"
      ]
     },
     "execution_count": 13,
     "metadata": {},
     "output_type": "execute_result"
    }
   ],
   "source": [
    "\n",
    "def graph(TURN_ON, x_Range, y_Range, **kwargs):\n",
    "    \n",
    "    if TURN_ON:\n",
    "    \n",
    "        xRange = findRange(x_Range[0], x_Range[1])\n",
    "        yRange = findRange(y_Range[0], y_Range[1])\n",
    "\n",
    "        myFrames = frameList(**kwargs)\n",
    "\n",
    "        plt.title(\"The Total Latency of a Memory Cell against their Read Accesses\")\n",
    "        plt.xlabel(\"Read Accesses / s\")\n",
    "        plt.ylabel(\"Total Memory Latency (s)\")\n",
    "        plt.xscale(\"log\")\n",
    "        plt.yscale(\"log\")\n",
    "        plt.xlim(xRange)\n",
    "        plt.ylim(yRange)\n",
    "\n",
    "        i = 0\n",
    "        for frame in myFrames:\n",
    "            match = re.search(' data/cell_cfgs/(.*)\\.cell$', cell_frames[frame]['MemoryCellInputFile'].iloc[0])\n",
    "            myLabel = match.group(1)\n",
    "            \n",
    "            plt.scatter(cell_frames[frame]['Read Accesses'], cell_frames[frame]['Total Memory Latency (s)'], label = myLabel, color=colors[i])\n",
    "            plt.legend()\n",
    "            i += 1\n",
    "        plt.show()\n",
    "\n",
    "    return \n",
    "\n",
    "\n",
    "interact(graph, TURN_ON = True, x_Range=IntRangeSlider(min= min_('Read Accesses'),max=max_('Read Accesses'), step=1, value=[-1,8]), y_Range=IntRangeSlider(min = min_('Total Memory Latency (s)'),max =max_('Total Memory Latency (s)'),step=1, value=[-9,0]), **widget_dict)\n",
    "\n"
   ]
  },
  {
   "cell_type": "markdown",
   "id": "7c9e22e4",
   "metadata": {},
   "source": [
    "We once again see vertical variation for a fixed number of writes under cases where workloads with varying number of writes but a fixed number of reads were considered."
   ]
  },
  {
   "cell_type": "markdown",
   "id": "2a643ac0",
   "metadata": {},
   "source": [
    "PCRAM appears to be the technology with the most range, so it is the most affected by changing the amount of writes at any individual read access level."
   ]
  },
  {
   "cell_type": "markdown",
   "id": "ae16684e",
   "metadata": {},
   "source": [
    "In the next couple graphs, we consider our varying solutions against the total traffic per second. The total traffic refers to both read and write accesses together."
   ]
  },
  {
   "cell_type": "code",
   "execution_count": 14,
   "id": "d3b13b77",
   "metadata": {},
   "outputs": [
    {
     "data": {
      "application/vnd.jupyter.widget-view+json": {
       "model_id": "3ca9df4aadd84791b2328653427e8752",
       "version_major": 2,
       "version_minor": 0
      },
      "text/plain": [
       "interactive(children=(Checkbox(value=True, description='TURN_ON'), IntRangeSlider(value=(0, 9), description='x…"
      ]
     },
     "metadata": {},
     "output_type": "display_data"
    },
    {
     "data": {
      "text/plain": [
       "<function __main__.graph(TURN_ON, x_Range, y_Range, **kwargs)>"
      ]
     },
     "execution_count": 14,
     "metadata": {},
     "output_type": "execute_result"
    }
   ],
   "source": [
    "for dfr in dfs:\n",
    "    dfr['Total Traffic / s'] = dfr['Write Accesses'] + dfr['Read Accesses']\n",
    "    dfr['Total Write Latency (s)'] = dfr['Total Write Latency (ms)'] / 1000.0\n",
    "    dfr['Total Read Latency (s)'] = dfr['Total Read Latency (ms)'] / 1000.0\n",
    "\n",
    "df = pd.concat(dfs)  \n",
    "\n",
    "def graph(TURN_ON, x_Range, y_Range, **kwargs):\n",
    "    \n",
    "    if TURN_ON:\n",
    "\n",
    "        xRange = findRange(x_Range[0], x_Range[1])\n",
    "        yRange = findRange(y_Range[0], y_Range[1])\n",
    "\n",
    "        myFrames = frameList(**kwargs)\n",
    "\n",
    "        plt.title(\"The Write Latency of a Memory Cell against Total Traffic per Second\")\n",
    "        plt.xlabel(\"Total Traffic / s\")\n",
    "        plt.ylabel(\"Total Write Latency (s)\")\n",
    "        plt.xscale(\"log\")\n",
    "        plt.yscale(\"log\")\n",
    "        plt.xlim(xRange)\n",
    "        plt.ylim(yRange)\n",
    "\n",
    "        i = 0\n",
    "        for frame in myFrames:\n",
    "            match = re.search(' data/cell_cfgs/(.*)\\.cell$', cell_frames[frame]['MemoryCellInputFile'].iloc[0])\n",
    "            myLabel = match.group(1)\n",
    "            \n",
    "            plt.scatter(cell_frames[frame]['Total Traffic / s'], cell_frames[frame]['Total Write Latency (s)'], label = myLabel, color=colors[i])\n",
    "            plt.legend()\n",
    "            i += 1\n",
    "        plt.show()\n",
    "    \n",
    "    return \n",
    "\n",
    "interact(graph, TURN_ON = True, x_Range=IntRangeSlider(min= min_('Total Traffic / s'),max=max_('Total Traffic / s'), step=1, value=[0,9]), y_Range=IntRangeSlider(min = min_('Total Write Latency (s)'),max =max_('Total Write Latency (s)'),step=1, value=[-9,0]), **widget_dict)\n",
    "\n"
   ]
  },
  {
   "cell_type": "markdown",
   "id": "d1b5e681",
   "metadata": {},
   "source": [
    "If you toggle the technologies in descending order again, you might see that each cell's write latency is higher than the one before, no matter how much traffic the cell gets. SRAM seems to be the one with the least write latency, MRAM and memristor have roughly the same, and lastly, PCRAM creates the most latency."
   ]
  },
  {
   "cell_type": "markdown",
   "id": "c704d336",
   "metadata": {},
   "source": [
    "We can repeat the comparison for read latency:"
   ]
  },
  {
   "cell_type": "code",
   "execution_count": 15,
   "id": "862afcb7",
   "metadata": {
    "scrolled": false
   },
   "outputs": [
    {
     "data": {
      "application/vnd.jupyter.widget-view+json": {
       "model_id": "af7e767476c944bab3d9686acd4bd5c0",
       "version_major": 2,
       "version_minor": 0
      },
      "text/plain": [
       "interactive(children=(Checkbox(value=True, description='TURN_ON'), IntRangeSlider(value=(0, 9), description='x…"
      ]
     },
     "metadata": {},
     "output_type": "display_data"
    },
    {
     "data": {
      "text/plain": [
       "<function __main__.graph(TURN_ON, x_Range, y_Range, **kwargs)>"
      ]
     },
     "execution_count": 15,
     "metadata": {},
     "output_type": "execute_result"
    }
   ],
   "source": [
    "\n",
    "\n",
    "def graph(TURN_ON, x_Range, y_Range, **kwargs):\n",
    "    \n",
    "    if TURN_ON:\n",
    "\n",
    "        xRange = findRange(x_Range[0], x_Range[1])\n",
    "        yRange = findRange(y_Range[0], y_Range[1])\n",
    "\n",
    "        myFrames = frameList(**kwargs)\n",
    "\n",
    "        plt.title(\"The Read Latency of a Memory Cell against Total Traffic per Second\")\n",
    "        plt.xlabel(\"Total Traffic / s\")\n",
    "        plt.ylabel(\"Total Read Latency (s)\")\n",
    "        plt.xscale(\"log\")\n",
    "        plt.yscale(\"log\")\n",
    "        plt.xlim(xRange)\n",
    "        plt.ylim(yRange)\n",
    "\n",
    "        i = 0\n",
    "        for frame in myFrames:\n",
    "            match = re.search(' data/cell_cfgs/(.*)\\.cell$', cell_frames[frame]['MemoryCellInputFile'].iloc[0])\n",
    "            myLabel = match.group(1)\n",
    "            \n",
    "            plt.scatter(cell_frames[frame]['Total Traffic / s'], cell_frames[frame]['Total Read Latency (s)'], label = myLabel, color=colors[i])\n",
    "            plt.legend()\n",
    "            i += 1\n",
    "        plt.show()\n",
    "    \n",
    "    return \n",
    "\n",
    "interact(graph, TURN_ON = True, x_Range=IntRangeSlider(min= min_('Total Traffic / s'),max=max_('Total Traffic / s'), step=1, value=[0,9]), y_Range=IntRangeSlider(min = min_('Total Read Latency (s)'),max =max_('Total Read Latency (s)'),step=1, value=[-9,0]), **widget_dict)\n",
    "\n"
   ]
  },
  {
   "cell_type": "markdown",
   "id": "84412382",
   "metadata": {},
   "source": [
    "By toggling on SRAM and FeFET, you might see that their read latencies are similar, attributed to the array-level characteristics previously examined. Then, comparing with MRAM, the memristor and the PCRAM, you might see that at any traffic level, their read latency is less and very similar to each other, with the PCRAM being very slightly faster than both and the memristor a bit faster than MRAM. So overall, we can see how the eNVM technologies are at a disadvantage with respect to writes and at par or advantageous in reads, so they exhibit better potential benefits when dealing with traffics that mostly consist of reads."
   ]
  },
  {
   "cell_type": "markdown",
   "id": "bc2f9c19",
   "metadata": {},
   "source": [
    "To confirm this, we can consider the total memory latency against the total traffic."
   ]
  },
  {
   "cell_type": "code",
   "execution_count": 16,
   "id": "85524793",
   "metadata": {
    "scrolled": false
   },
   "outputs": [
    {
     "data": {
      "application/vnd.jupyter.widget-view+json": {
       "model_id": "7b553ea6f7a146ac8ab9db2b39b678ef",
       "version_major": 2,
       "version_minor": 0
      },
      "text/plain": [
       "interactive(children=(Checkbox(value=True, description='TURN_ON'), IntRangeSlider(value=(2, 9), description='x…"
      ]
     },
     "metadata": {},
     "output_type": "display_data"
    },
    {
     "data": {
      "text/plain": [
       "<function __main__.graph(TURN_ON, x_Range, y_Range, **kwargs)>"
      ]
     },
     "execution_count": 16,
     "metadata": {},
     "output_type": "execute_result"
    }
   ],
   "source": [
    "\n",
    "def graph(TURN_ON, x_Range, y_Range, **kwargs):\n",
    "    \n",
    "    if TURN_ON:\n",
    "    \n",
    "        xRange = findRange(x_Range[0], x_Range[1])\n",
    "        yRange = findRange(y_Range[0], y_Range[1])\n",
    "\n",
    "        myFrames = frameList(**kwargs)\n",
    "\n",
    "        plt.title(\"The Total Latency of a Memory Cell against Total Traffic per Second\")\n",
    "        plt.xlabel(\"Total Traffic / s\")\n",
    "        plt.ylabel(\"Total Memory Latency (s)\")\n",
    "        plt.xscale(\"log\")\n",
    "        plt.yscale(\"log\")\n",
    "        plt.xlim(xRange)\n",
    "        plt.ylim(yRange)\n",
    "        \n",
    "        i = 0\n",
    "        for frame in myFrames:\n",
    "            match = re.search(' data/cell_cfgs/(.*)\\.cell$', cell_frames[frame]['MemoryCellInputFile'].iloc[0])\n",
    "            myLabel = match.group(1)\n",
    "            \n",
    "            plt.scatter(cell_frames[frame]['Total Traffic / s'], cell_frames[frame]['Total Memory Latency (s)'], label = myLabel, color=colors[i])\n",
    "            plt.legend()\n",
    "            i += 1\n",
    "        plt.show()\n",
    "\n",
    "    return \n",
    "\n",
    "interact(graph, TURN_ON = True, x_Range=IntRangeSlider(min= min_('Total Traffic / s'),max=max_('Total Traffic / s'), step=1, value=[2,9]), y_Range=IntRangeSlider(min = min_('Total Memory Latency (s)'),max =max_('Total Memory Latency (s)'), step=1, value=[-6,0]), **widget_dict)\n",
    "\n"
   ]
  },
  {
   "cell_type": "markdown",
   "id": "770b087a",
   "metadata": {},
   "source": [
    "As you can see, now there is much less vertical variation in our results. This is because now we are graphing the latency created by all of our traffic.\n",
    "\n",
    "The result we get is pretty intuitive, as the more accesses we do, the greater the time we have to wait for them to get done.\n",
    "\n",
    "The reason the other eNVM technologies show more variation is that their latencies are disparate for read and writes, so for a single total traffic amount, there might actually be different amounts of reads and writes with the same total, leading to variation in latency. By comparing with FeFET, we can see how it usually follows the same path as SRAM, but at some configurations it has a bit more latency. If we compare with MRAM or the memristor, we can see how we see a slight variation in both directions. Lastly, for PCRAM we see the most vertical variation as it spans roughly two orders of magnitude.\n",
    "\n",
    "Disclaimer: remember both scales are logarithmic, and toggle and filter results to deepen your understanding."
   ]
  },
  {
   "cell_type": "markdown",
   "id": "dbb68097",
   "metadata": {},
   "source": [
    "# ============================================================\n",
    "### Chapter 3: Comparing Benchmarks divided into common Traffic Pattern Groups (Graph Processing, DNNs and SPEC)"
   ]
  },
  {
   "cell_type": "markdown",
   "id": "17458556",
   "metadata": {},
   "source": [
    "A final comparison that we can make is how different statistics such as power, latency or life expectancy vary with different traffic patterns (quantities of write and read accesses). In our current dataframe, this would be represented by the 'Benchmark Name' column. While we have many benchmarks (around 500), most of them fall onto 4 categories: one category of generic traffic patterns covering a wide range of potential read and write load, and three more specific benchmark sets of graph processing, deep neural networks (DNNs) and the SPEC2017 benchmark traffic patterns for cache accesses under varying capacities and configurations. Though in the same group, the graph processing traffics tested are from Facebook and Wikipedia workloads. The DNN group is divided into the ResNet image classification network and the ALBERT language model. The SPEC group is divided into the different cache sizes of 8, 16, 32 and 64MB. We will call all of these groups of benchmarks 'buckets'."
   ]
  },
  {
   "cell_type": "code",
   "execution_count": 17,
   "id": "7ae0616b",
   "metadata": {
    "scrolled": false
   },
   "outputs": [],
   "source": [
    "# Here, we parse through the benchmark column in our data set. You might be analyzing different benchmark types\n",
    "# in your own simulation so you might want to parse it in your own way.\n",
    "\n",
    "# Makes lists to hold the benchmarks in each bucket\n",
    "graphPros = list()\n",
    "resNet = list()\n",
    "albert = list()\n",
    "spec8MB = list()\n",
    "spec16MB = list()\n",
    "spec32MB = list()\n",
    "spec64MB = list()\n",
    "\n",
    "# Dictionary that includes the custom cells and the benchmarks in the data\n",
    "ext_widget_dict = widget_dict.copy()\n",
    "\n",
    "bench_widget_dict = dict()\n",
    "\n",
    "bucket_dict = dict()\n",
    "\n",
    "# Goes through all distinct benchmarks\n",
    "for bench in df['Benchmark Name'].unique():\n",
    "    \n",
    "    # If there are any empty boxes, it will return a float type, so we will skip this.\n",
    "    if isinstance(bench, float): \n",
    "        continue\n",
    "        \n",
    "    # Uses regular expressions to match each benchmark to their appropriate bucket.\n",
    "    # Most of this parsing is very specific to the names of the benchmarks we studied, so depending on \n",
    "    # your data, you might want to change this parsing.\n",
    "    \n",
    "    if re.search('^(Facebook|Wikipedia)', bench):\n",
    "        graphPros.append(bench)\n",
    "    if re.search('^ResNet', bench):\n",
    "        resNet.append(bench)\n",
    "    if re.search('^ALBERT', bench):\n",
    "        albert.append(bench)\n",
    "        \n",
    "    # Our Spec traffics are named like this: they start with 3 digits, then goes their name, then their size\n",
    "    if re.search(r'^\\d{3}.*8MB$', bench):\n",
    "        spec8MB.append(bench)\n",
    "    if re.search(r'^\\d{3}.*16MB$', bench):\n",
    "        spec16MB.append(bench)\n",
    "    if re.search(r'^\\d{3}.*32MB$', bench):\n",
    "        spec32MB.append(bench)\n",
    "    if re.search(r'^\\d{3}.*64MB$', bench):\n",
    "        spec64MB.append(bench)\n",
    "\n",
    "        \n",
    "# Makes a list of all the buckets with the lists we just made, and then a similar list that holds their names in strings.\n",
    "buckets = [graphPros, resNet, albert, spec8MB, spec16MB, spec32MB, spec64MB]\n",
    "bucketNames = ['GraphProcessing', 'ResNet', 'ALBERT', 'spec8MB', 'spec16MB', 'spec32MB', 'spec64MB']\n",
    "\n",
    "#current bucket list\n",
    "myBuckets = list()\n",
    "\n",
    "# this loop expands the current widget dict and also creates an individual one for the benchmarks\n",
    "# while making a key for each widget, we use a percent sign to differentiate it from the cell keys\n",
    "# the val boolean makes it so only the first of the benchmarks has on as its default value to not crowd the visual.\n",
    "val = True\n",
    "for i in range(len(buckets)):\n",
    "    if len(buckets[i]) != 0:\n",
    "        ext_widget_dict[\"%\" + bucketNames[i]] = widgets.Checkbox(value=val, description=bucketNames[i])\n",
    "        bench_widget_dict[\"%\" + bucketNames[i]] = widgets.Checkbox(value=val, description=bucketNames[i])\n",
    "        val = False\n",
    "        bucket_dict[\"%\" + bucketNames[i]] = buckets[i]\n",
    "\n",
    "for i in range(len(buckets)):\n",
    "    if len(buckets[i]) == 0:\n",
    "        buckets.remove(buckets[i])\n",
    "        bucketNames.remove(bucketNames[i])\n",
    "    \n",
    "    \n",
    "# This new current buckets list is to only display the ones that the user has toggled on\n",
    "currBuckets = buckets.copy()\n",
    "currBucketsNames = list()\n",
    "\n",
    "benchmarks = list()\n",
    "\n",
    "# Compute the life expectancies\n",
    "# We do not have endurance data on SRAM, so we use a simple boolean to skip the first item on our dataframes list.\n",
    "\n",
    "#Specific to our dataset, you might parse as you like or keep commented out if you do not have an endurance dataset\n",
    "sram = True\n",
    "\n",
    "for dfr in dfs:\n",
    "    \n",
    "    if sram:\n",
    "        sram = False\n",
    "        continue\n",
    "        \n",
    "    # NVMExplorer results has each cell with a space before their name, like ' SRAM', so here we grab the name and take\n",
    "    # everything after said space\n",
    "    cell = dfr.iloc[0,0][1:]\n",
    "\n",
    "    \n",
    "    # Grabs the min and max endurance from the other dataframe by matching the cell names\n",
    "    minEndurance = endurancedf[(endurancedf['Memory Cell'] == cell)]['min'].iloc[0]\n",
    "    \n",
    "    # We do not have enough data on the max endurance of some of the cells so if null, we just equal it to the minimum\n",
    "    maxEndurance = endurancedf[(endurancedf['Memory Cell'] == cell) & (endurancedf['max'].notnull())]['max'].iloc[0]\n",
    "    \n",
    "\n",
    "    if not isinstance(maxEndurance, float):\n",
    "        maxEndurance = minEndurance\n",
    "\n",
    "    # Since to get the efficiency we need to divide by writes, we check if writes are 0 in said pattern\n",
    "    # If they are not 0, we calculate by dividing the endurance by the write accesses per second, if not,\n",
    "    # it is then set to roughly 10 years in seconds, as that is what cells would typically last even if they do\n",
    "    # not suffer any depreciation through writes.\n",
    "    dfr['Min Life Expectancy (s)'] = np.where(dfr['Write Accesses'] != 0.0, minEndurance / dfr['Write Accesses'], 3.2e8)\n",
    "    \n",
    "    dfr['Max Life Expectancy (s)'] = np.where(dfr['Write Accesses'] != 0.0, maxEndurance / dfr['Write Accesses'], 3.2e8)\n",
    "\n",
    "df = pd.concat(dfs)  \n",
    "df['Max Life Expectancy (s)']\n",
    "\n",
    "# Make a new column for the buckets and set to a standard null value for now\n",
    "df['Bucket'] = \"NaN\"\n",
    "df['Avg'] = \"NaN\"\n",
    "\n",
    "\n",
    "mydfs = cell_frames.values()\n",
    "\n",
    "cell_frames_avg = dict()\n",
    "\n",
    "# Compute the geometric mean for the stats for the different buckets\n",
    "def geometricMeanStats(mydfs):\n",
    "    \n",
    "    # Loops through the list of buckets, and then through all the cell dataframes\n",
    "    # Uses range instead of a normal loop as we want to index the lists in the loop.\n",
    "    for i in range(len(buckets)):\n",
    "    \n",
    "        j = 0\n",
    "        \n",
    "        for mydf in mydfs:\n",
    "          \n",
    "            # Makes the bucket column for each dataframe and sets it null.\n",
    "            mydf['Bucket'] = \"NaN\"\n",
    "            \n",
    "            totLatency = 1.0\n",
    "            totMemPow = 1.0\n",
    "            totWrites = 1.0\n",
    "            totReads = 1.0\n",
    "            totMins = 1.0\n",
    "            totMaxs = 1.0\n",
    "            n = 0\n",
    "            \n",
    "            # Loops through each benchmark in each bucket\n",
    "            for bench in buckets[i]:\n",
    "    \n",
    "                df.loc[df['Benchmark Name'] == bench, 'Bucket'] = bucketNames[i]\n",
    "               \n",
    "                \n",
    "                # Filters the data frame to match the current benchmark, and grabs the variable we want\n",
    "                lat = mydf[(mydf['Benchmark Name'] == bench)]['Total Memory Latency (s)']\n",
    "               \n",
    "                # Since there is only one row for each cell for each benchmark, the sum will equal the sole value\n",
    "                # The function is merely used to turn the series object into a float and be able to multiply it.\n",
    "                totLatency *= lat.sum()\n",
    "                \n",
    "                memPow = mydf[(mydf['Benchmark Name'] == bench)]['Total Mem Power']\n",
    "                totMemPow *= memPow.sum()\n",
    "                \n",
    "                writes = mydf[(mydf['Benchmark Name'] == bench)]['Write Accesses']\n",
    "                # Handles the case where some of the benchmarks (specifically in ResNet) have no writes,\n",
    "                # so although we have high writes for some traffic patterns, the mean would turn out as 0.\n",
    "                # Thus, we are ignoring these values to make the metric more representative of the data.\n",
    "        \n",
    "                if writes.sum() != 0:\n",
    "                    totWrites *= writes.sum()\n",
    "                    n += 1\n",
    "                \n",
    "                reads = mydf[(mydf['Benchmark Name'] == bench)]['Read Accesses']\n",
    "                totReads *= reads.sum()\n",
    "                \n",
    "                # Skips over in the iteration that goes through SRAM as we do not want to calculate Life Expectancy for it.\n",
    "                # SPECIFIC TO OUR DATA CHANGE\n",
    "                if j > 0:\n",
    "                    minLifeExpec = mydf[(mydf['Benchmark Name'] == bench)]['Min Life Expectancy (s)']\n",
    "                    totMins *= minLifeExpec.sum()\n",
    "                    \n",
    "                    maxLifeExpec = mydf[(mydf['Benchmark Name'] == bench)]['Max Life Expectancy (s)']\n",
    "                    totMaxs *= maxLifeExpec.sum()\n",
    "                \n",
    "            # Calculates the geometric mean for these variables, elevating to the power of 1 over the amount of benchmarks \n",
    "            # in the current bucket\n",
    "            avgLate = totLatency ** (1.0 / len(buckets[i]))\n",
    "            avgPow = totMemPow ** (1.0 / len(buckets[i]))\n",
    "            \n",
    "            if n == 0:\n",
    "                avgWrites = 0.0\n",
    "            else:\n",
    "                avgWrites = totWrites ** (1.0 / n)\n",
    "            \n",
    "            avgReads = totReads ** (1.0 / len(buckets[i]))\n",
    "            \n",
    "            \n",
    "            if j > 0:\n",
    "                avgMins = totMins ** (1.0 / len(buckets[i]))\n",
    "                avgMaxs = totMaxs ** (1.0 / len(buckets[i]))\n",
    "            else:\n",
    "                avgMins = 'NaN'\n",
    "                avgMaxs = 'NaN'\n",
    "\n",
    "           \n",
    "            # Makes a dictionary of the new calculated data that we want to add as a new row.\n",
    "            data = {'MemCellType': cells[j],'Total Mem Power' : avgPow, 'Write Accesses' : avgWrites, 'Read Accesses' : avgReads, 'Total Memory Latency (s)': avgLate, 'Min Life Expectancy (s)': avgMins,'Max Life Expectancy (s)': avgMaxs, 'MemoryCellInputFile': paths[j] ,'Bucket': bucketNames[i]}\n",
    "\n",
    "            myFrame = pd.DataFrame(columns=df.columns)\n",
    "            \n",
    "            myFrame.loc[0] = data\n",
    "            cell_frames_avg[paths[j] + \"&\" + bucketNames[i]] = myFrame\n",
    "            \n",
    "            j += 1\n",
    "        \n",
    "        \n",
    "geometricMeanStats(dfs)\n",
    "\n",
    "# it creates frames based on all the cell config and bucket configurations by filtering and then assigns it\n",
    "# to the dictionary with an easily computable key to find them again.\n",
    "for path in paths:\n",
    "    for bucket in bucketNames:\n",
    "        \n",
    "        myFrame = pd.DataFrame(columns=df.columns)\n",
    "        \n",
    "        myFrame = pd.concat([myFrame, df[((df['MemoryCellInputFile'] == path) & (df['Bucket'] == bucket))]])\n",
    "       \n",
    "        cell_frames[path + \"&\" + bucket] = myFrame\n",
    "\n",
    "\n",
    "currCells = list()\n",
    "\n",
    "# A function to work the toggles of the buckets, takes a boolean for each one.\n",
    "def benchList(currBuckets, currCells, frames):\n",
    "    \n",
    "    frames.clear()\n",
    "    \n",
    "    # finds all the frames that we want to include in our graph using the keys designed previously\n",
    "    for cell in currCells:\n",
    "        for bucket in currBuckets:\n",
    "            frames.append(cell_frames[cell + \"&\" + bucket])\n",
    "    \n",
    "\n",
    "    return frames\n",
    "\n",
    "# this method is only used to select premade frames taht are only dependent on the buckets and not the cells\n",
    "# for the first graph of this chaptar only which specifies read and write traffics for all the buckets.\n",
    "\n",
    "def trafficList(currBuckets, frames):\n",
    "    frames.clear()\n",
    "    \n",
    "    for bucket in currBuckets:\n",
    "        \n",
    "        # Here, we arbitrarily chose SRAM so that we only concatenate one row rather than 5, and since the traffic pattern\n",
    "        # is the same for all of the cells, it just depends on the benchmark.\n",
    "        frames.append(cell_frames[paths[0] + \"&\" + bucket])\n",
    "            \n",
    "    return frames"
   ]
  },
  {
   "cell_type": "markdown",
   "id": "273f3fa9",
   "metadata": {},
   "source": [
    "Now that all the setting up is done for this section, we can start looking at data.\n",
    "\n",
    "The first graph displays the traffic patterns for all of the benchmarks and buckets so that you understand the differences in them, and then have this in mind when looking at the effects on power, latency and life expectancy.\n",
    "\n",
    "Apart from being able to toggle each bucket, you will be able to select whether you want to see each individual benchmark in the bucket or if you would like to visualize the geometric mean of all the benchmarks in the bucket."
   ]
  },
  {
   "cell_type": "code",
   "execution_count": 18,
   "id": "f9925489",
   "metadata": {
    "scrolled": false
   },
   "outputs": [
    {
     "data": {
      "application/vnd.jupyter.widget-view+json": {
       "model_id": "72e4fae357914594a5cb1a13746b35a2",
       "version_major": 2,
       "version_minor": 0
      },
      "text/plain": [
       "interactive(children=(Checkbox(value=True, description='TURN_ON'), Checkbox(value=True, description='Y_Log_Sca…"
      ]
     },
     "metadata": {},
     "output_type": "display_data"
    },
    {
     "data": {
      "text/plain": [
       "<function __main__.graph(TURN_ON, Y_Log_Scale, All_Benchmarks, Bucket_Means, **kwargs)>"
      ]
     },
     "execution_count": 18,
     "metadata": {},
     "output_type": "execute_result"
    }
   ],
   "source": [
    "\n",
    "def graph(TURN_ON, Y_Log_Scale, All_Benchmarks, Bucket_Means, **kwargs):\n",
    "    \n",
    "    if TURN_ON:\n",
    "\n",
    "        currBuckets.clear()\n",
    "        myBuckets.clear()\n",
    "        currBucketsNames.clear()\n",
    "\n",
    "\n",
    "        # Each of these adds the corresponding bucket to the list of the current ones, as well as the name to use for labelling.\n",
    "\n",
    "        i = 0\n",
    "        for key,value in kwargs.items():\n",
    "            if value:\n",
    "                # stores the keys of all the buckets we want to reference\n",
    "                currBuckets.append(key[1:])\n",
    "                currBucketsNames.append(bucketNames[i])\n",
    "            i += 1\n",
    "\n",
    "        # based on these keys, makes a list of the current actual buckets we want\n",
    "        for key in currBuckets:\n",
    "            myBuckets.append(bucket_dict[\"%\" + key])\n",
    "\n",
    "\n",
    "        # Makes a new dataframe to organize the data differently for this graph.\n",
    "        myFrames = trafficList(currBuckets, frames)\n",
    "\n",
    "        benchmarks = list()\n",
    "\n",
    "        # Depending on what the user selects on what they want to view, some axis calculations will have to change,\n",
    "        # so it sets up variables to 0 and 1 as toggles to different additions by multiplying them by these variables.\n",
    "        if All_Benchmarks:\n",
    "            allBenchs = 1\n",
    "            # Also updates the (current) benchmarks list to have all of the benchmarks in each toggled bucket\n",
    "            for bucket in myBuckets:\n",
    "                benchmarks.extend(bucket)\n",
    "\n",
    "        else:\n",
    "            allBenchs = 0\n",
    "\n",
    "        if Bucket_Means:\n",
    "            bavg = 1\n",
    "        else:\n",
    "            bavg = 0\n",
    "        \n",
    "        \n",
    "        # Set up the figure and axis\n",
    "        fig, ax = plt.subplots(figsize=(16,6))\n",
    "\n",
    "        # Set the bar width\n",
    "        bar_width = 0.1\n",
    "\n",
    "        \n",
    "        # The code will give an error if it tries to graph no values, so we check if we have more than 0 things to plot.\n",
    "        # here is the toggling of certain numbers (0 or 1) with allBenchs and bavg as stated before.\n",
    "        # The benchmarks add the positions for all of them, and then there is one average for each bucket.\n",
    "        if (len(benchmarks) * allBenchs + len(myBuckets) * bavg) > 0:\n",
    "            \n",
    "            nextpos = 0\n",
    "            i = 0\n",
    "            \n",
    "            for frame in myFrames:\n",
    "                \n",
    "                readLabel = None\n",
    "                writeLabel = None\n",
    "                \n",
    "                if All_Benchmarks:\n",
    "                    \n",
    "                    if i == 0:\n",
    "                        readLabel = \"Read Accesses\"\n",
    "                        writeLabel = \"WriteAccesses\"\n",
    "                        \n",
    "                    # Calculate the bar positions for Reads\n",
    "    \n",
    "                    bar_positions = np.arange(len(myBuckets[i])) + nextpos\n",
    "                    \n",
    "                    nextpos = bar_positions[-1] + 1\n",
    "                \n",
    "                    # The same bar positions with the added width for the writes\n",
    "                    bar_positions_1 = bar_positions + bar_width\n",
    "\n",
    "                    # Plot the bars\n",
    "                    ax.bar(bar_positions, frame['Read Accesses'], width=bar_width, label= readLabel, color='mediumpurple')\n",
    "                    ax.bar(bar_positions_1, frame['Write Accesses'], width=bar_width, label= writeLabel, color = 'mediumturquoise')\n",
    "\n",
    "                if Bucket_Means:\n",
    "                    if All_Benchmarks or i > 0:\n",
    "                        readLabel = None\n",
    "                        writeLabel = None\n",
    "                    else:\n",
    "                        readLabel = \"Read Accesses\"\n",
    "                        writeLabel = \"WriteAccesses\"\n",
    "                        \n",
    "                    bar_position_avg = nextpos\n",
    "                    nextpos = bar_position_avg + 1\n",
    "                    bar_position__avg_1 = bar_position_avg + bar_width\n",
    "                    \n",
    "                    ax.bar(bar_position_avg, cell_frames_avg[paths[0] + \"&\" + currBuckets[i]]['Read Accesses'], width=bar_width, label = readLabel, color='mediumpurple')\n",
    "                    ax.bar(bar_position__avg_1, cell_frames_avg[paths[0] + \"&\" + currBuckets[i]]['Write Accesses'], width=bar_width, label= writeLabel, color = 'mediumturquoise')\n",
    "                    \n",
    "                i += 1\n",
    "                    \n",
    "                \n",
    "            # Add labels and title \n",
    "            ax.set_xticks(np.arange(len(benchmarks) * allBenchs + len(myBuckets) * bavg) + (bar_width / 2.0))\n",
    "\n",
    "            labels  = list()\n",
    "\n",
    "            # Adds labels to the list in the same order that the information is located in  Trafficdf\n",
    "            for i in range(len(myBuckets)):\n",
    "                if All_Benchmarks:\n",
    "                    labels.extend(bucket_dict[\"%\" + currBuckets[i]])\n",
    "                if Bucket_Means:\n",
    "                    labels.append(f'{currBucketsNames[i]} Geom. Mean')\n",
    "\n",
    "            ax.set_xticklabels(labels)\n",
    "            plt.xticks(rotation=45)\n",
    "            ax.legend()\n",
    "\n",
    "        ax.set_xlabel('Benchmarks')\n",
    "        ax.set_ylabel('Accesses / s')\n",
    "        ax.set_title('How Traffic Patterns Vary per Benchmark (Read/Write Accesses)')    \n",
    "\n",
    "        if Y_Log_Scale:\n",
    "\n",
    "            plt.yscale(\"log\")\n",
    "\n",
    "\n",
    "        # Display the chart\n",
    "        plt.show()\n",
    "\n",
    "interact(graph, TURN_ON = True, Y_Log_Scale = True, All_Benchmarks = True, Bucket_Means = True, **bench_widget_dict)\n"
   ]
  },
  {
   "cell_type": "markdown",
   "id": "7642380f",
   "metadata": {},
   "source": [
    "It is recommended that you look through each bucket to look at the workload differences. If displaying all benchmarks, you might want to display one bucket at a time as it might get cluttered pretty quickly, if comparing buckets, looking at the means might be best.\n",
    "\n",
    "By default, you start looking at the graph processing benchmarks, and you can see how these patterns are read-dominated.\n",
    "While a log scale does not provide a true 0, this kind of data is usually compared in orders of magnitude so it might be helpful to toggle that on.\n",
    "\n",
    "For the DNN models, you might also see that reading is way more prevalent, as once you are doing inferences, there is nothing to change about the weights in the neural network. You can even see no writes for some of the ResNet classification ones and all of the ALBERT language models, according to the architectural assumptions (see NVMExplorer paper for case study details).\n",
    "\n",
    "SPEC workloads exhibit more varied read/write behavior."
   ]
  },
  {
   "cell_type": "markdown",
   "id": "110b50c1",
   "metadata": {},
   "source": [
    "As we now have an idea of what the provided workload traffic patterns are, we can start comparing some variables between benchmarks.\n",
    "\n",
    "To begin, we will look at the Memory Latency of the different eNVM solutions."
   ]
  },
  {
   "cell_type": "code",
   "execution_count": 19,
   "id": "519aa062",
   "metadata": {
    "scrolled": false
   },
   "outputs": [
    {
     "data": {
      "application/vnd.jupyter.widget-view+json": {
       "model_id": "f6e8b20e88e9497fbf16bcd0ad192414",
       "version_major": 2,
       "version_minor": 0
      },
      "text/plain": [
       "interactive(children=(Checkbox(value=True, description='TURN_ON'), Checkbox(value=True, description='Y_Log_Sca…"
      ]
     },
     "metadata": {},
     "output_type": "display_data"
    },
    {
     "data": {
      "text/plain": [
       "<function __main__.graph(TURN_ON, Y_Log_Scale, All_Benchmarks, Bucket_Means, **kwargs)>"
      ]
     },
     "execution_count": 19,
     "metadata": {},
     "output_type": "execute_result"
    }
   ],
   "source": [
    "\n",
    "\n",
    "def graph(TURN_ON, Y_Log_Scale, All_Benchmarks, Bucket_Means, **kwargs):\n",
    "   \n",
    "    if TURN_ON:\n",
    "        # Functions the same way as the cell toggling from earlier.\n",
    "        currBuckets.clear()\n",
    "        currCells.clear()\n",
    "        myBuckets.clear()\n",
    "\n",
    "\n",
    "        # Each of these adds the corresponding bucket to the list of the current ones, as well as the name to use for labelling.\n",
    "\n",
    "        i = 0\n",
    "        for key,value in kwargs.items():\n",
    "            if value:\n",
    "                # this time we used the joint widget dictionary as we also need the cells, so we need to\n",
    "                # check for a % in the beginning and decide what the key corresponds to.\n",
    "                if re.search('^%', key):\n",
    "                        currBuckets.append(key[1:])\n",
    "                else:\n",
    "                    currCells.append(key)\n",
    "            i += 1\n",
    "\n",
    "        for key in currBuckets:\n",
    "            myBuckets.append(bucket_dict[\"%\" + key])\n",
    "\n",
    "        myFrames = benchList(currBuckets, currCells, frames)\n",
    "\n",
    "        benchmarks = list()\n",
    "\n",
    "        if All_Benchmarks:\n",
    "            allBenchs = 1\n",
    "            for bucket in myBuckets:\n",
    "                benchmarks.extend(bucket)\n",
    "        else:\n",
    "            allBenchs = 0\n",
    "\n",
    "        if Bucket_Means:\n",
    "            bavg = 1\n",
    "        else:\n",
    "            bavg = 0\n",
    "\n",
    "\n",
    "        # Set up the figure and axis\n",
    "        fig, ax = plt.subplots(figsize=(16,6))\n",
    "\n",
    "        # Set the bar width\n",
    "        bar_width = 0.1\n",
    "\n",
    "        if (len(benchmarks) * allBenchs + len(myBuckets) * bavg) > 0:\n",
    "\n",
    "            # Iterative variable\n",
    "            i = 0\n",
    "            j = 0\n",
    "            nextpos = 0\n",
    "            numBuckets = len(myBuckets)\n",
    "            for frame in myFrames:\n",
    "\n",
    "                # Calculate the bar positions\n",
    "\n",
    "                match = re.search(' data/cell_cfgs/(.*)\\.cell$', frame['MemoryCellInputFile'].iloc[0])\n",
    "                theLabel = match.group(1)\n",
    "\n",
    "                # we keep this variable to avoid having duplicate labels\n",
    "                myLabel = None\n",
    "\n",
    "                # Plot the bars\n",
    "                if All_Benchmarks:\n",
    "\n",
    "                    if j == 0:\n",
    "                        myLabel = theLabel\n",
    "\n",
    "                    # we get an amount of bar positions based on how many benchmarks our buckets have\n",
    "                    # and also keep track of the current position so that the next bucket begins from there\n",
    "                    bar_positions_all = np.arange(len(myBuckets[j])) + nextpos\n",
    "                 \n",
    "                    nextpos = bar_positions_all[-1] + 1\n",
    "\n",
    "                    # we want the bars for the next cell configuartion to be right next to the others, so \n",
    "                    # one barwidth away.\n",
    "                    bar_positions_all =  bar_positions_all + (i * bar_width)\n",
    "                    \n",
    "\n",
    "                    ax.bar(bar_positions_all, frame['Total Memory Latency (s)'], width=bar_width, label = myLabel, color = colors[i])\n",
    "\n",
    "\n",
    "                if Bucket_Means:\n",
    "\n",
    "                    if All_Benchmarks or j > 0:\n",
    "                        myLabel = None\n",
    "                    else:\n",
    "                        myLabel = theLabel\n",
    "\n",
    "                    bar_position_avg = nextpos\n",
    "                    nextpos = bar_position_avg + 1\n",
    "\n",
    "                    bar_position_avg = bar_position_avg + (i * bar_width)\n",
    "\n",
    "                    ax.bar(bar_position_avg, cell_frames_avg[currCells[i] + \"&\" + currBuckets[j]]['Total Memory Latency (s)'], width=bar_width, label = myLabel, color = colors[i])\n",
    "\n",
    "                j += 1\n",
    "                \n",
    "                # we loop through all the buckets for each cell in this way as we had to loop over all of our frames\n",
    "                # which include every cell bucket combination\n",
    "                if j >= numBuckets:\n",
    "                    j = 0\n",
    "                    i += 1\n",
    "                    nextpos = 0\n",
    "\n",
    "\n",
    "            # Add labels and title \n",
    "            ax.set_xticks(np.arange(len(benchmarks) * allBenchs + len(currBuckets) * bavg) + ((len(currCells) - 1) * (bar_width / 2.0)))\n",
    "\n",
    "            labels  = list()\n",
    "\n",
    "            for i in range(len(myBuckets)):\n",
    "                if All_Benchmarks:\n",
    "                    labels.extend(myBuckets[i])\n",
    "                if Bucket_Means:\n",
    "                    labels.append(f'{currBuckets[i]} Geom. Mean')\n",
    "\n",
    "            ax.set_xticklabels(labels)\n",
    "            plt.xticks(rotation=55)\n",
    "            ax.legend()\n",
    "\n",
    "        ax.set_xlabel('Benchmarks')\n",
    "        ax.set_ylabel('Total Memory Latency (s)')\n",
    "        ax.set_title('The Total Memory Latency for different Benchmarks (Traffic Patterns)')    \n",
    "\n",
    "        if Y_Log_Scale:\n",
    "\n",
    "            plt.yscale(\"log\", base=5)\n",
    "\n",
    "            axi = plt.gca()\n",
    "            axi.yaxis.set_major_formatter(mticker.ScalarFormatter())\n",
    "            axi.yaxis.get_major_formatter().set_scientific(False)\n",
    "            axi.yaxis.get_major_formatter().set_useOffset(False)\n",
    "\n",
    "        # Display the chart\n",
    "        plt.show()\n",
    "\n",
    "interact(graph, TURN_ON = True, Y_Log_Scale = True, All_Benchmarks = True, Bucket_Means = True, **ext_widget_dict)\n"
   ]
  },
  {
   "cell_type": "markdown",
   "id": "c020ef0e",
   "metadata": {},
   "source": [
    "Above we can see that for graph processing, SRAM and FeFET tend to take more time to get the job done, and the eNVMs are usually faster.\n",
    "\n",
    "For ResNet, some are pretty quick, but there are some benchmarks for which PCRAM is extremely inefficient, having a latency of over 16 seconds for one of them, and while not that high, it takes the longest for roughly half the benchmarks. The next slowest are again SRAM and FeFET, and the memristor seems to do a quick job again.\n",
    "\n",
    "ALBERT workloads actually tend to take way less time than the others regardless of the cell. SRAM and FeFET are still the slowest, but are very quick compared to the previous traffic patterns.\n",
    "\n",
    "For the spec workloads, we can recall that our current capacity considered (1MB) is not an appicable cache size for the provided benchmarks, and filter accordingly."
   ]
  },
  {
   "cell_type": "markdown",
   "id": "3dd18605",
   "metadata": {},
   "source": [
    "Up next we will look at the total memory power depending on the benchmarks."
   ]
  },
  {
   "cell_type": "code",
   "execution_count": 20,
   "id": "b8faa894",
   "metadata": {
    "scrolled": false
   },
   "outputs": [
    {
     "data": {
      "application/vnd.jupyter.widget-view+json": {
       "model_id": "be8d8e9853ec464c97180752b651bf5e",
       "version_major": 2,
       "version_minor": 0
      },
      "text/plain": [
       "interactive(children=(Checkbox(value=True, description='TURN_ON'), Checkbox(value=False, description='Y_Log_Sc…"
      ]
     },
     "metadata": {},
     "output_type": "display_data"
    },
    {
     "data": {
      "text/plain": [
       "<function __main__.graph(TURN_ON, Y_Log_Scale, All_Benchmarks, Bucket_Means, **kwargs)>"
      ]
     },
     "execution_count": 20,
     "metadata": {},
     "output_type": "execute_result"
    }
   ],
   "source": [
    "\n",
    "\n",
    "def graph(TURN_ON, Y_Log_Scale, All_Benchmarks, Bucket_Means, **kwargs):\n",
    "   \n",
    "    if TURN_ON:\n",
    "        # Functions the same way as the cell toggling from earlier.\n",
    "        currBuckets.clear()\n",
    "        currCells.clear()\n",
    "        myBuckets.clear()\n",
    "\n",
    "\n",
    "        # Each of these adds the corresponding bucket to the list of the current ones, as well as the name to use for labelling.\n",
    "\n",
    "        i = 0\n",
    "        for key,value in kwargs.items():\n",
    "            if value:\n",
    "                if re.search('^%', key):\n",
    "                        currBuckets.append(key[1:])\n",
    "                else:\n",
    "                    currCells.append(key)\n",
    "            i += 1\n",
    "\n",
    "        for key in currBuckets:\n",
    "            myBuckets.append(bucket_dict[\"%\" + key])\n",
    "\n",
    "        myFrames = benchList(currBuckets, currCells, frames)\n",
    "\n",
    "        benchmarks = list()\n",
    "\n",
    "        if All_Benchmarks:\n",
    "            allBenchs = 1\n",
    "            for bucket in myBuckets:\n",
    "                benchmarks.extend(bucket)\n",
    "        else:\n",
    "            allBenchs = 0\n",
    "\n",
    "        if Bucket_Means:\n",
    "            bavg = 1\n",
    "        else:\n",
    "            bavg = 0\n",
    "\n",
    "\n",
    "        # Set up the figure and axis\n",
    "        fig, ax = plt.subplots(figsize=(16,6))\n",
    "\n",
    "        # Set the bar width\n",
    "        bar_width = 0.1\n",
    "\n",
    "        if (len(benchmarks) * allBenchs + len(currBuckets) * bavg) > 0:\n",
    "\n",
    "            # Iterative variable\n",
    "            i = 0\n",
    "            j = 0\n",
    "            nextpos = 0\n",
    "            numBuckets = len(myBuckets)\n",
    "            for frame in myFrames:\n",
    "\n",
    "                # Calculate the bar positions\n",
    "\n",
    "                match = re.search(' data/cell_cfgs/(.*)\\.cell$', frame['MemoryCellInputFile'].iloc[0])\n",
    "                theLabel = match.group(1)\n",
    "\n",
    "                myLabel = None\n",
    "\n",
    "                # Plot the bars\n",
    "                if All_Benchmarks:\n",
    "\n",
    "                    if j == 0:\n",
    "                        myLabel = theLabel\n",
    "\n",
    "                    bar_positions_all = np.arange(len(myBuckets[j])) + nextpos\n",
    "\n",
    "                    nextpos = bar_positions_all[-1] + 1\n",
    "\n",
    "                    bar_positions_all =  bar_positions_all + (i * bar_width)\n",
    "\n",
    "                    ax.bar(bar_positions_all, frame['Total Mem Power'], width=bar_width, label = myLabel, color = colors[i])\n",
    "\n",
    "\n",
    "                if Bucket_Means:\n",
    "\n",
    "                    if All_Benchmarks or j > 0:\n",
    "                        myLabel = None\n",
    "                    else:\n",
    "                        myLabel = theLabel\n",
    "\n",
    "                    bar_position_avg = nextpos\n",
    "                    nextpos = bar_position_avg + 1\n",
    "\n",
    "                    bar_position_avg = bar_position_avg + (i * bar_width)\n",
    "\n",
    "                    ax.bar(bar_position_avg, cell_frames_avg[currCells[i] + \"&\" + currBuckets[j]]['Total Mem Power'], width=bar_width, label = myLabel, color = colors[i])\n",
    "\n",
    "                j += 1\n",
    "\n",
    "                if j >= numBuckets:\n",
    "                    j = 0\n",
    "                    i += 1\n",
    "                    nextpos = 0\n",
    "\n",
    "\n",
    "\n",
    "            # Add labels and title \n",
    "            ax.set_xticks(np.arange(len(benchmarks) * allBenchs + len(currBuckets) * bavg) + ((len(currCells) - 1) * (bar_width / 2.0)))\n",
    "\n",
    "            labels  = list()\n",
    "\n",
    "            for i in range(len(myBuckets)):\n",
    "                if All_Benchmarks:\n",
    "                    labels.extend(myBuckets[i])\n",
    "                if Bucket_Means:\n",
    "                    labels.append(f'{currBuckets[i]} Geom. Mean')\n",
    "\n",
    "            ax.set_xticklabels(labels)\n",
    "            plt.xticks(rotation=55)\n",
    "            ax.legend()\n",
    "\n",
    "        ax.set_xlabel('Benchmarks')\n",
    "        ax.set_ylabel('Total Memory Power (mW)')\n",
    "        ax.set_title('The Total Memory Power for different Benchmarks (Traffic Patterns)')    \n",
    "\n",
    "        if Y_Log_Scale:\n",
    "\n",
    "            plt.yscale(\"log\", base=5)\n",
    "\n",
    "            axi = plt.gca()\n",
    "            axi.yaxis.set_major_formatter(mticker.ScalarFormatter())\n",
    "            axi.yaxis.get_major_formatter().set_scientific(False)\n",
    "            axi.yaxis.get_major_formatter().set_useOffset(False)\n",
    "\n",
    "        # Display the chart\n",
    "        plt.show()\n",
    "\n",
    "interact(graph, TURN_ON = True, Y_Log_Scale = False, All_Benchmarks = True, Bucket_Means = True, **ext_widget_dict)\n"
   ]
  },
  {
   "cell_type": "markdown",
   "id": "cfc4cae6",
   "metadata": {},
   "source": [
    "For graph processing patterns, we can see that FeFET cells usually requires the least energy per second, followed by SRAM. We can see a very similar pattern for the ALBERT models, except PCRAM always takes the lead as the most inefficient.\n",
    "\n",
    "Looking at ResNet inferences, we can see that MRAM and the memristor tend to be the most inefficient, with PCRAM sometimes in parallel depending on the specific benchmark. FeFET is by far the most effective here. We can also note how ResNet50 takes more power than the other traffics overall.\n",
    "\n",
    "Comparing all of the different groups as an average, we can see that ResNet is the most energy consuming, while its counterpart DNN, ALBERT, consumes the least."
   ]
  },
  {
   "cell_type": "markdown",
   "id": "584bc9a9",
   "metadata": {},
   "source": [
    "A last metric that should be important to compare would be the life expectancy of the different cells for each benchmark. This statistic is computed by looking at their endurance combined with the number of writes per seconds under continuous operation. As the endurance is how many cycles it takes before the cell starts malfunctioning, that is why we consider how many writes a second it performs, to see how many seconds would need to occur until said threshold is surpassed. In keeping with our previous exploration of endurance, we consider the pessimistic and optimistic tentpoles of endurance for each of these technologies. "
   ]
  },
  {
   "cell_type": "code",
   "execution_count": 21,
   "id": "1fba6e5a",
   "metadata": {
    "scrolled": false
   },
   "outputs": [
    {
     "data": {
      "application/vnd.jupyter.widget-view+json": {
       "model_id": "53e326d1a2554605b629c8f4cc0154de",
       "version_major": 2,
       "version_minor": 0
      },
      "text/plain": [
       "interactive(children=(Checkbox(value=True, description='TURN_ON'), Checkbox(value=True, description='Y_Log_Sca…"
      ]
     },
     "metadata": {},
     "output_type": "display_data"
    },
    {
     "data": {
      "text/plain": [
       "<function __main__.graph(TURN_ON, Y_Log_Scale, All_Benchmarks, Bucket_Means, **kwargs)>"
      ]
     },
     "execution_count": 21,
     "metadata": {},
     "output_type": "execute_result"
    }
   ],
   "source": [
    " \n",
    "\n",
    "def graph(TURN_ON, Y_Log_Scale, All_Benchmarks, Bucket_Means, **kwargs):\n",
    "       \n",
    "    if TURN_ON:\n",
    "\n",
    "        # Functions the same way as the cell toggling from earlier.\n",
    "        currBuckets.clear()\n",
    "        currCells.clear()\n",
    "        myBuckets.clear()\n",
    "\n",
    "\n",
    "        # Each of these adds the corresponding bucket to the list of the current ones, as well as the name to use for labelling.\n",
    "\n",
    "        sram = False\n",
    "        i = 0\n",
    "        for key,value in kwargs.items():\n",
    "            if value:\n",
    "                if re.search('^%', key):\n",
    "                        currBuckets.append(key[1:])\n",
    "                else:\n",
    "                    if key == paths[0]:\n",
    "                        sram = True\n",
    "                        i += 1\n",
    "                        continue\n",
    "                    currCells.append(key)\n",
    "            i += 1\n",
    "\n",
    "        for key in currBuckets:\n",
    "            myBuckets.append(bucket_dict[\"%\" + key])\n",
    "\n",
    "        myFrames = benchList(currBuckets, currCells, frames)\n",
    "\n",
    "        benchmarks = list()\n",
    "\n",
    "        if All_Benchmarks:\n",
    "            allBenchs = 1\n",
    "            for bucket in myBuckets:\n",
    "                benchmarks.extend(bucket)\n",
    "        else:\n",
    "            allBenchs = 0\n",
    "\n",
    "        if Bucket_Means:\n",
    "            bavg = 1\n",
    "        else:\n",
    "            bavg = 0\n",
    "\n",
    "\n",
    "        # Set up the figure and axis\n",
    "        fig, ax = plt.subplots(figsize=(16,6))\n",
    "\n",
    "        # Set the bar width\n",
    "        bar_width = 0.1\n",
    "\n",
    "        if (len(benchmarks) * allBenchs + len(myBuckets) * bavg) > 0:\n",
    "\n",
    "            # Iterative variable\n",
    "            i = 0\n",
    "            j = 0\n",
    "            nextpos = 0\n",
    "            numBuckets = len(myBuckets)\n",
    "\n",
    "            # Again, specific to our dataset, change according to own data.\n",
    "\n",
    "\n",
    "            for frame in myFrames:\n",
    "\n",
    "\n",
    "                # Calculate the bar positions\n",
    "\n",
    "                match = re.search(' data/cell_cfgs/(.*)\\.cell$', frame['MemoryCellInputFile'].iloc[0])\n",
    "                theLabel = match.group(1)\n",
    "\n",
    "                myLabel = None\n",
    "\n",
    "                # Plot the bars\n",
    "                if All_Benchmarks:\n",
    "\n",
    "                    if j == 0:\n",
    "                        myLabel = theLabel\n",
    "\n",
    "                    bar_positions_all = np.arange(len(myBuckets[j])) + nextpos\n",
    "\n",
    "                    nextpos = bar_positions_all[-1] + 1\n",
    "\n",
    "                    bar_positions_all =  bar_positions_all + ((i) * bar_width)\n",
    "\n",
    "                    ax.bar(bar_positions_all, frame['Max Life Expectancy (s)'], width=bar_width, label = myLabel, color = colors[i + 1], bottom = frame['Min Life Expectancy (s)'])\n",
    "\n",
    "\n",
    "                if Bucket_Means:\n",
    "\n",
    "                    if All_Benchmarks or j > 0:\n",
    "                        myLabel = None\n",
    "                    else:\n",
    "                        myLabel = theLabel\n",
    "\n",
    "                    bar_position_avg = nextpos\n",
    "                    nextpos = bar_position_avg + 1\n",
    "\n",
    "                    bar_position_avg = bar_position_avg + ((i) * bar_width)\n",
    "\n",
    "                    ax.bar(bar_position_avg, cell_frames_avg[currCells[i] + \"&\" + currBuckets[j]]['Max Life Expectancy (s)'], width=bar_width, label = myLabel, color = colors[i + 1], bottom = cell_frames_avg[currCells[i] + \"&\" + currBuckets[j]]['Min Life Expectancy (s)'])\n",
    "\n",
    "                j += 1\n",
    "\n",
    "                if j >= numBuckets:\n",
    "                    j = 0\n",
    "                    i += 1\n",
    "                    nextpos = 0\n",
    "\n",
    "\n",
    "\n",
    "            # Add labels and title \n",
    "            ax.set_xticks(np.arange(len(benchmarks) * allBenchs + len(currBuckets) * bavg) + ((len(currCells) - 1) * (bar_width / 2.0)))\n",
    "\n",
    "            labels  = list()\n",
    "\n",
    "            for i in range(len(myBuckets)):\n",
    "                if All_Benchmarks:\n",
    "                    labels.extend(myBuckets[i])\n",
    "                if Bucket_Means:\n",
    "                    labels.append(f'{currBuckets[i]} Geom. Mean')\n",
    "\n",
    "            ax.set_xticklabels(labels)\n",
    "            plt.xticks(rotation=55)\n",
    "            ax.legend()\n",
    "\n",
    "        plt.ylim(5**-5, 5**16)\n",
    "        ax.set_xlabel('Benchmarks')\n",
    "        ax.set_ylabel('Life Expectancy (s)')\n",
    "        ax.set_title('The Life Expectancy of Memory Cells while Running Distinct Benchmarks (Traffic Patterns)')    \n",
    "\n",
    "        if Y_Log_Scale:\n",
    "\n",
    "            plt.yscale(\"log\", base=5)\n",
    "\n",
    "\n",
    "        # Display the chart\n",
    "        plt.show()\n",
    "\n",
    "interact(graph, TURN_ON = True, Y_Log_Scale = True, All_Benchmarks = True, Bucket_Means = True, **ext_widget_dict)\n"
   ]
  },
  {
   "cell_type": "markdown",
   "id": "594b5544",
   "metadata": {},
   "source": [
    "As for life expectancy during graph processing, we can see that MRAM has the highest optimistic time, with an order of magnitude of 10^9. At this point, rather than because of writes, the cell might just die out from time as any other electronic would, typically at around 10 years which would equal roughly 3.2e8 seconds. Contrarily, in the worst scenario, the memristor and FeFET may last the least, dying out after around 0.1 seconds.\n",
    "\n",
    "Regarding ResNet, only a few benchmarks include some writes, for which PCRAM and FeFET would last the least and MRAM the most. It looks like there is not enough data regarding the memristor here. For all the other benchmarks, as they do not conduct writes we might expect them to live a very long time, approximately 10 years as previously stated.\n",
    "\n",
    "Similarily for ALBERT, they do not conduct writes which is why we might expect them to last the 10 years approximation.\n",
    "\n",
    "This type of data lets us know how even if FeFET is very fast and efficient, it will not last you a long time, so you have to investigate all of the relevant variables as you might have massive trade offs.\n",
    "\n",
    "Although there is not that great of a difference regarding life expectancy between the benchmark buckets, we can see the memory cells tend to last a little longer while doing graph processing, and strictly less for those workloads that are more write-intensive."
   ]
  },
  {
   "cell_type": "markdown",
   "id": "d702a3f3",
   "metadata": {},
   "source": [
    "# ============================================================\n",
    "### Conclusion"
   ]
  },
  {
   "cell_type": "markdown",
   "id": "abcbccd3",
   "metadata": {},
   "source": [
    "Here concludes the sample exploration from the NVMExplorer simplest study data. In essence, we were able to compare an example array-level characterization of each eNVM cell technology in terms of their properties, like area, read/write energy per bit, leakage power, or any factor that might affect the performance of the software being run. Then, we visualized some application-level statistics, observing variation in power or latency depending on the specific traffic pattern. Lastly, we delved deeper into traffic patterns corresponding to specific benchmarks of interest to see how each configuration behaved depending on which type of program is run and what system settings are considered; we looked at how the latency and power differed again, and also how long the cells might last before malfunctioning during the process.\n",
    "\n",
    "In essence, we were able to identify the primary advantages and best candidates under example cell characteristics, and to identify important trade-offs when running certain programs. We hope that by using this tool and making simple substitutions here, you can visualize your own experiments done with NVMExplorer and can explore, iterate, and identify compelling memory solutions for your purposes."
   ]
  }
 ],
 "metadata": {
  "kernelspec": {
   "display_name": "Python 3 (ipykernel)",
   "language": "python",
   "name": "python3"
  },
  "language_info": {
   "codemirror_mode": {
    "name": "ipython",
    "version": 3
   },
   "file_extension": ".py",
   "mimetype": "text/x-python",
   "name": "python",
   "nbconvert_exporter": "python",
   "pygments_lexer": "ipython3",
   "version": "3.10.9"
  }
 },
 "nbformat": 4,
 "nbformat_minor": 5
}
